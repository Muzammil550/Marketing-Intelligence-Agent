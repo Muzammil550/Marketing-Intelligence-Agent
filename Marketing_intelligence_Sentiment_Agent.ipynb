{
  "nbformat": 4,
  "nbformat_minor": 0,
  "metadata": {
    "colab": {
      "provenance": [],
      "gpuType": "V28"
    },
    "kernelspec": {
      "name": "python3",
      "display_name": "Python 3"
    },
    "language_info": {
      "name": "python"
    },
    "accelerator": "TPU"
  },
  "cells": [
    {
      "cell_type": "code",
      "execution_count": 2,
      "metadata": {
        "id": "2DqYb3zHAQz-",
        "colab": {
          "base_uri": "https://localhost:8080/"
        },
        "outputId": "2b2e1129-daf6-431c-fef5-db4a695d8224"
      },
      "outputs": [
        {
          "output_type": "stream",
          "name": "stdout",
          "text": [
            "from langchain_groq import ChatGroq  # Entry/Planning llm_planner = ChatGroq(     temperature=0.3,     model_name=\"gemma2-9b-it\",  # Upgraded from gemma-7b-it     max_retries=2 )  # Creative Ad Copy Generation llm_generate = ChatGroq(     temperature=0.75,     model_name=\"mixtral-8x7b-32768\",  # Updated model identifier     max_retries=2 )  # Instruction Following llm_refiner = ChatGroq(     temperature=0.35,     model_name=\"llama-3.3-70b-versatile\",  # Retained for its versatility     max_retries=2 )Requirement already satisfied: langgraph in /usr/local/lib/python3.11/dist-packages (0.3.31)\n",
            "Requirement already satisfied: langchain-core<0.4,>=0.1 in /usr/local/lib/python3.11/dist-packages (from langgraph) (0.3.55)\n",
            "Requirement already satisfied: langgraph-checkpoint<3.0.0,>=2.0.10 in /usr/local/lib/python3.11/dist-packages (from langgraph) (2.0.24)\n",
            "Requirement already satisfied: langgraph-prebuilt<0.2,>=0.1.8 in /usr/local/lib/python3.11/dist-packages (from langgraph) (0.1.8)\n",
            "Requirement already satisfied: langgraph-sdk<0.2.0,>=0.1.42 in /usr/local/lib/python3.11/dist-packages (from langgraph) (0.1.63)\n",
            "Requirement already satisfied: xxhash<4.0.0,>=3.5.0 in /usr/local/lib/python3.11/dist-packages (from langgraph) (3.5.0)\n",
            "Requirement already satisfied: langsmith<0.4,>=0.1.125 in /usr/local/lib/python3.11/dist-packages (from langchain-core<0.4,>=0.1->langgraph) (0.3.33)\n",
            "Requirement already satisfied: tenacity!=8.4.0,<10.0.0,>=8.1.0 in /usr/local/lib/python3.11/dist-packages (from langchain-core<0.4,>=0.1->langgraph) (9.1.2)\n",
            "Requirement already satisfied: jsonpatch<2.0,>=1.33 in /usr/local/lib/python3.11/dist-packages (from langchain-core<0.4,>=0.1->langgraph) (1.33)\n",
            "Requirement already satisfied: PyYAML>=5.3 in /usr/local/lib/python3.11/dist-packages (from langchain-core<0.4,>=0.1->langgraph) (6.0.2)\n",
            "Requirement already satisfied: packaging<25,>=23.2 in /usr/local/lib/python3.11/dist-packages (from langchain-core<0.4,>=0.1->langgraph) (24.2)\n",
            "Requirement already satisfied: typing-extensions>=4.7 in /usr/local/lib/python3.11/dist-packages (from langchain-core<0.4,>=0.1->langgraph) (4.13.2)\n",
            "Requirement already satisfied: pydantic<3.0.0,>=2.5.2 in /usr/local/lib/python3.11/dist-packages (from langchain-core<0.4,>=0.1->langgraph) (2.11.3)\n",
            "Requirement already satisfied: ormsgpack<2.0.0,>=1.8.0 in /usr/local/lib/python3.11/dist-packages (from langgraph-checkpoint<3.0.0,>=2.0.10->langgraph) (1.9.1)\n",
            "Requirement already satisfied: httpx>=0.25.2 in /usr/local/lib/python3.11/dist-packages (from langgraph-sdk<0.2.0,>=0.1.42->langgraph) (0.28.1)\n",
            "Requirement already satisfied: orjson>=3.10.1 in /usr/local/lib/python3.11/dist-packages (from langgraph-sdk<0.2.0,>=0.1.42->langgraph) (3.10.16)\n",
            "Requirement already satisfied: anyio in /usr/local/lib/python3.11/dist-packages (from httpx>=0.25.2->langgraph-sdk<0.2.0,>=0.1.42->langgraph) (4.9.0)\n",
            "Requirement already satisfied: certifi in /usr/local/lib/python3.11/dist-packages (from httpx>=0.25.2->langgraph-sdk<0.2.0,>=0.1.42->langgraph) (2025.1.31)\n",
            "Requirement already satisfied: httpcore==1.* in /usr/local/lib/python3.11/dist-packages (from httpx>=0.25.2->langgraph-sdk<0.2.0,>=0.1.42->langgraph) (1.0.8)\n",
            "Requirement already satisfied: idna in /usr/local/lib/python3.11/dist-packages (from httpx>=0.25.2->langgraph-sdk<0.2.0,>=0.1.42->langgraph) (3.10)\n",
            "Requirement already satisfied: h11<0.15,>=0.13 in /usr/local/lib/python3.11/dist-packages (from httpcore==1.*->httpx>=0.25.2->langgraph-sdk<0.2.0,>=0.1.42->langgraph) (0.14.0)\n",
            "Requirement already satisfied: jsonpointer>=1.9 in /usr/local/lib/python3.11/dist-packages (from jsonpatch<2.0,>=1.33->langchain-core<0.4,>=0.1->langgraph) (3.0.0)\n",
            "Requirement already satisfied: requests<3,>=2 in /usr/local/lib/python3.11/dist-packages (from langsmith<0.4,>=0.1.125->langchain-core<0.4,>=0.1->langgraph) (2.32.3)\n",
            "Requirement already satisfied: requests-toolbelt<2.0.0,>=1.0.0 in /usr/local/lib/python3.11/dist-packages (from langsmith<0.4,>=0.1.125->langchain-core<0.4,>=0.1->langgraph) (1.0.0)\n",
            "Requirement already satisfied: zstandard<0.24.0,>=0.23.0 in /usr/local/lib/python3.11/dist-packages (from langsmith<0.4,>=0.1.125->langchain-core<0.4,>=0.1->langgraph) (0.23.0)\n",
            "Requirement already satisfied: annotated-types>=0.6.0 in /usr/local/lib/python3.11/dist-packages (from pydantic<3.0.0,>=2.5.2->langchain-core<0.4,>=0.1->langgraph) (0.7.0)\n",
            "Requirement already satisfied: pydantic-core==2.33.1 in /usr/local/lib/python3.11/dist-packages (from pydantic<3.0.0,>=2.5.2->langchain-core<0.4,>=0.1->langgraph) (2.33.1)\n",
            "Requirement already satisfied: typing-inspection>=0.4.0 in /usr/local/lib/python3.11/dist-packages (from pydantic<3.0.0,>=2.5.2->langchain-core<0.4,>=0.1->langgraph) (0.4.0)\n",
            "Requirement already satisfied: charset-normalizer<4,>=2 in /usr/local/lib/python3.11/dist-packages (from requests<3,>=2->langsmith<0.4,>=0.1.125->langchain-core<0.4,>=0.1->langgraph) (3.4.1)\n",
            "Requirement already satisfied: urllib3<3,>=1.21.1 in /usr/local/lib/python3.11/dist-packages (from requests<3,>=2->langsmith<0.4,>=0.1.125->langchain-core<0.4,>=0.1->langgraph) (2.3.0)\n",
            "Requirement already satisfied: sniffio>=1.1 in /usr/local/lib/python3.11/dist-packages (from anyio->httpx>=0.25.2->langgraph-sdk<0.2.0,>=0.1.42->langgraph) (1.3.1)\n",
            "Requirement already satisfied: langchain-groq in /usr/local/lib/python3.11/dist-packages (0.3.2)\n",
            "Requirement already satisfied: langchain-core<1.0.0,>=0.3.49 in /usr/local/lib/python3.11/dist-packages (from langchain-groq) (0.3.55)\n",
            "Requirement already satisfied: groq<1,>=0.4.1 in /usr/local/lib/python3.11/dist-packages (from langchain-groq) (0.22.0)\n",
            "Requirement already satisfied: anyio<5,>=3.5.0 in /usr/local/lib/python3.11/dist-packages (from groq<1,>=0.4.1->langchain-groq) (4.9.0)\n",
            "Requirement already satisfied: distro<2,>=1.7.0 in /usr/lib/python3/dist-packages (from groq<1,>=0.4.1->langchain-groq) (1.7.0)\n",
            "Requirement already satisfied: httpx<1,>=0.23.0 in /usr/local/lib/python3.11/dist-packages (from groq<1,>=0.4.1->langchain-groq) (0.28.1)\n",
            "Requirement already satisfied: pydantic<3,>=1.9.0 in /usr/local/lib/python3.11/dist-packages (from groq<1,>=0.4.1->langchain-groq) (2.11.3)\n",
            "Requirement already satisfied: sniffio in /usr/local/lib/python3.11/dist-packages (from groq<1,>=0.4.1->langchain-groq) (1.3.1)\n",
            "Requirement already satisfied: typing-extensions<5,>=4.10 in /usr/local/lib/python3.11/dist-packages (from groq<1,>=0.4.1->langchain-groq) (4.13.2)\n",
            "Requirement already satisfied: langsmith<0.4,>=0.1.125 in /usr/local/lib/python3.11/dist-packages (from langchain-core<1.0.0,>=0.3.49->langchain-groq) (0.3.33)\n",
            "Requirement already satisfied: tenacity!=8.4.0,<10.0.0,>=8.1.0 in /usr/local/lib/python3.11/dist-packages (from langchain-core<1.0.0,>=0.3.49->langchain-groq) (9.1.2)\n",
            "Requirement already satisfied: jsonpatch<2.0,>=1.33 in /usr/local/lib/python3.11/dist-packages (from langchain-core<1.0.0,>=0.3.49->langchain-groq) (1.33)\n",
            "Requirement already satisfied: PyYAML>=5.3 in /usr/local/lib/python3.11/dist-packages (from langchain-core<1.0.0,>=0.3.49->langchain-groq) (6.0.2)\n",
            "Requirement already satisfied: packaging<25,>=23.2 in /usr/local/lib/python3.11/dist-packages (from langchain-core<1.0.0,>=0.3.49->langchain-groq) (24.2)\n",
            "Requirement already satisfied: idna>=2.8 in /usr/local/lib/python3.11/dist-packages (from anyio<5,>=3.5.0->groq<1,>=0.4.1->langchain-groq) (3.10)\n",
            "Requirement already satisfied: certifi in /usr/local/lib/python3.11/dist-packages (from httpx<1,>=0.23.0->groq<1,>=0.4.1->langchain-groq) (2025.1.31)\n",
            "Requirement already satisfied: httpcore==1.* in /usr/local/lib/python3.11/dist-packages (from httpx<1,>=0.23.0->groq<1,>=0.4.1->langchain-groq) (1.0.8)\n",
            "Requirement already satisfied: h11<0.15,>=0.13 in /usr/local/lib/python3.11/dist-packages (from httpcore==1.*->httpx<1,>=0.23.0->groq<1,>=0.4.1->langchain-groq) (0.14.0)\n",
            "Requirement already satisfied: jsonpointer>=1.9 in /usr/local/lib/python3.11/dist-packages (from jsonpatch<2.0,>=1.33->langchain-core<1.0.0,>=0.3.49->langchain-groq) (3.0.0)\n",
            "Requirement already satisfied: orjson<4.0.0,>=3.9.14 in /usr/local/lib/python3.11/dist-packages (from langsmith<0.4,>=0.1.125->langchain-core<1.0.0,>=0.3.49->langchain-groq) (3.10.16)\n",
            "Requirement already satisfied: requests<3,>=2 in /usr/local/lib/python3.11/dist-packages (from langsmith<0.4,>=0.1.125->langchain-core<1.0.0,>=0.3.49->langchain-groq) (2.32.3)\n",
            "Requirement already satisfied: requests-toolbelt<2.0.0,>=1.0.0 in /usr/local/lib/python3.11/dist-packages (from langsmith<0.4,>=0.1.125->langchain-core<1.0.0,>=0.3.49->langchain-groq) (1.0.0)\n",
            "Requirement already satisfied: zstandard<0.24.0,>=0.23.0 in /usr/local/lib/python3.11/dist-packages (from langsmith<0.4,>=0.1.125->langchain-core<1.0.0,>=0.3.49->langchain-groq) (0.23.0)\n",
            "Requirement already satisfied: annotated-types>=0.6.0 in /usr/local/lib/python3.11/dist-packages (from pydantic<3,>=1.9.0->groq<1,>=0.4.1->langchain-groq) (0.7.0)\n",
            "Requirement already satisfied: pydantic-core==2.33.1 in /usr/local/lib/python3.11/dist-packages (from pydantic<3,>=1.9.0->groq<1,>=0.4.1->langchain-groq) (2.33.1)\n",
            "Requirement already satisfied: typing-inspection>=0.4.0 in /usr/local/lib/python3.11/dist-packages (from pydantic<3,>=1.9.0->groq<1,>=0.4.1->langchain-groq) (0.4.0)\n",
            "Requirement already satisfied: charset-normalizer<4,>=2 in /usr/local/lib/python3.11/dist-packages (from requests<3,>=2->langsmith<0.4,>=0.1.125->langchain-core<1.0.0,>=0.3.49->langchain-groq) (3.4.1)\n",
            "Requirement already satisfied: urllib3<3,>=1.21.1 in /usr/local/lib/python3.11/dist-packages (from requests<3,>=2->langsmith<0.4,>=0.1.125->langchain-core<1.0.0,>=0.3.49->langchain-groq) (2.3.0)\n",
            "Requirement already satisfied: langchain in /usr/local/lib/python3.11/dist-packages (0.3.23)\n",
            "Requirement already satisfied: langchain_core in /usr/local/lib/python3.11/dist-packages (0.3.55)\n",
            "Requirement already satisfied: langchain_community in /usr/local/lib/python3.11/dist-packages (0.3.21)\n",
            "Requirement already satisfied: fastembed in /usr/local/lib/python3.11/dist-packages (0.6.1)\n",
            "Requirement already satisfied: langchain-text-splitters<1.0.0,>=0.3.8 in /usr/local/lib/python3.11/dist-packages (from langchain) (0.3.8)\n",
            "Requirement already satisfied: langsmith<0.4,>=0.1.17 in /usr/local/lib/python3.11/dist-packages (from langchain) (0.3.33)\n",
            "Requirement already satisfied: pydantic<3.0.0,>=2.7.4 in /usr/local/lib/python3.11/dist-packages (from langchain) (2.11.3)\n",
            "Requirement already satisfied: SQLAlchemy<3,>=1.4 in /usr/local/lib/python3.11/dist-packages (from langchain) (2.0.40)\n",
            "Requirement already satisfied: requests<3,>=2 in /usr/local/lib/python3.11/dist-packages (from langchain) (2.32.3)\n",
            "Requirement already satisfied: PyYAML>=5.3 in /usr/local/lib/python3.11/dist-packages (from langchain) (6.0.2)\n",
            "Requirement already satisfied: tenacity!=8.4.0,<10.0.0,>=8.1.0 in /usr/local/lib/python3.11/dist-packages (from langchain_core) (9.1.2)\n",
            "Requirement already satisfied: jsonpatch<2.0,>=1.33 in /usr/local/lib/python3.11/dist-packages (from langchain_core) (1.33)\n",
            "Requirement already satisfied: packaging<25,>=23.2 in /usr/local/lib/python3.11/dist-packages (from langchain_core) (24.2)\n",
            "Requirement already satisfied: typing-extensions>=4.7 in /usr/local/lib/python3.11/dist-packages (from langchain_core) (4.13.2)\n",
            "Requirement already satisfied: aiohttp<4.0.0,>=3.8.3 in /usr/local/lib/python3.11/dist-packages (from langchain_community) (3.11.15)\n",
            "Requirement already satisfied: dataclasses-json<0.7,>=0.5.7 in /usr/local/lib/python3.11/dist-packages (from langchain_community) (0.6.7)\n",
            "Requirement already satisfied: pydantic-settings<3.0.0,>=2.4.0 in /usr/local/lib/python3.11/dist-packages (from langchain_community) (2.9.1)\n",
            "Requirement already satisfied: httpx-sse<1.0.0,>=0.4.0 in /usr/local/lib/python3.11/dist-packages (from langchain_community) (0.4.0)\n",
            "Requirement already satisfied: numpy<3,>=1.26.2 in /usr/local/lib/python3.11/dist-packages (from langchain_community) (2.0.2)\n",
            "Requirement already satisfied: huggingface-hub<1.0,>=0.20 in /usr/local/lib/python3.11/dist-packages (from fastembed) (0.30.2)\n",
            "Requirement already satisfied: loguru<0.8.0,>=0.7.2 in /usr/local/lib/python3.11/dist-packages (from fastembed) (0.7.3)\n",
            "Requirement already satisfied: mmh3<6.0.0,>=4.1.0 in /usr/local/lib/python3.11/dist-packages (from fastembed) (5.1.0)\n",
            "Requirement already satisfied: onnxruntime!=1.20.0,>=1.17.0 in /usr/local/lib/python3.11/dist-packages (from fastembed) (1.21.1)\n",
            "Requirement already satisfied: pillow<12.0.0,>=10.3.0 in /usr/local/lib/python3.11/dist-packages (from fastembed) (11.2.1)\n",
            "Requirement already satisfied: py-rust-stemmers<0.2.0,>=0.1.0 in /usr/local/lib/python3.11/dist-packages (from fastembed) (0.1.5)\n",
            "Requirement already satisfied: tokenizers<1.0,>=0.15 in /usr/local/lib/python3.11/dist-packages (from fastembed) (0.21.1)\n",
            "Requirement already satisfied: tqdm<5.0,>=4.66 in /usr/local/lib/python3.11/dist-packages (from fastembed) (4.67.1)\n",
            "Requirement already satisfied: aiohappyeyeballs>=2.3.0 in /usr/local/lib/python3.11/dist-packages (from aiohttp<4.0.0,>=3.8.3->langchain_community) (2.6.1)\n",
            "Requirement already satisfied: aiosignal>=1.1.2 in /usr/local/lib/python3.11/dist-packages (from aiohttp<4.0.0,>=3.8.3->langchain_community) (1.3.2)\n",
            "Requirement already satisfied: attrs>=17.3.0 in /usr/local/lib/python3.11/dist-packages (from aiohttp<4.0.0,>=3.8.3->langchain_community) (25.3.0)\n",
            "Requirement already satisfied: frozenlist>=1.1.1 in /usr/local/lib/python3.11/dist-packages (from aiohttp<4.0.0,>=3.8.3->langchain_community) (1.5.0)\n",
            "Requirement already satisfied: multidict<7.0,>=4.5 in /usr/local/lib/python3.11/dist-packages (from aiohttp<4.0.0,>=3.8.3->langchain_community) (6.4.3)\n",
            "Requirement already satisfied: propcache>=0.2.0 in /usr/local/lib/python3.11/dist-packages (from aiohttp<4.0.0,>=3.8.3->langchain_community) (0.3.1)\n",
            "Requirement already satisfied: yarl<2.0,>=1.17.0 in /usr/local/lib/python3.11/dist-packages (from aiohttp<4.0.0,>=3.8.3->langchain_community) (1.19.0)\n",
            "Requirement already satisfied: marshmallow<4.0.0,>=3.18.0 in /usr/local/lib/python3.11/dist-packages (from dataclasses-json<0.7,>=0.5.7->langchain_community) (3.26.1)\n",
            "Requirement already satisfied: typing-inspect<1,>=0.4.0 in /usr/local/lib/python3.11/dist-packages (from dataclasses-json<0.7,>=0.5.7->langchain_community) (0.9.0)\n",
            "Requirement already satisfied: filelock in /usr/local/lib/python3.11/dist-packages (from huggingface-hub<1.0,>=0.20->fastembed) (3.18.0)\n",
            "Requirement already satisfied: fsspec>=2023.5.0 in /usr/local/lib/python3.11/dist-packages (from huggingface-hub<1.0,>=0.20->fastembed) (2025.3.2)\n",
            "Requirement already satisfied: jsonpointer>=1.9 in /usr/local/lib/python3.11/dist-packages (from jsonpatch<2.0,>=1.33->langchain_core) (3.0.0)\n",
            "Requirement already satisfied: httpx<1,>=0.23.0 in /usr/local/lib/python3.11/dist-packages (from langsmith<0.4,>=0.1.17->langchain) (0.28.1)\n",
            "Requirement already satisfied: orjson<4.0.0,>=3.9.14 in /usr/local/lib/python3.11/dist-packages (from langsmith<0.4,>=0.1.17->langchain) (3.10.16)\n",
            "Requirement already satisfied: requests-toolbelt<2.0.0,>=1.0.0 in /usr/local/lib/python3.11/dist-packages (from langsmith<0.4,>=0.1.17->langchain) (1.0.0)\n",
            "Requirement already satisfied: zstandard<0.24.0,>=0.23.0 in /usr/local/lib/python3.11/dist-packages (from langsmith<0.4,>=0.1.17->langchain) (0.23.0)\n",
            "Requirement already satisfied: coloredlogs in /usr/local/lib/python3.11/dist-packages (from onnxruntime!=1.20.0,>=1.17.0->fastembed) (15.0.1)\n",
            "Requirement already satisfied: flatbuffers in /usr/local/lib/python3.11/dist-packages (from onnxruntime!=1.20.0,>=1.17.0->fastembed) (25.2.10)\n",
            "Requirement already satisfied: protobuf in /usr/local/lib/python3.11/dist-packages (from onnxruntime!=1.20.0,>=1.17.0->fastembed) (5.29.4)\n",
            "Requirement already satisfied: sympy in /usr/local/lib/python3.11/dist-packages (from onnxruntime!=1.20.0,>=1.17.0->fastembed) (1.13.1)\n",
            "Requirement already satisfied: annotated-types>=0.6.0 in /usr/local/lib/python3.11/dist-packages (from pydantic<3.0.0,>=2.7.4->langchain) (0.7.0)\n",
            "Requirement already satisfied: pydantic-core==2.33.1 in /usr/local/lib/python3.11/dist-packages (from pydantic<3.0.0,>=2.7.4->langchain) (2.33.1)\n",
            "Requirement already satisfied: typing-inspection>=0.4.0 in /usr/local/lib/python3.11/dist-packages (from pydantic<3.0.0,>=2.7.4->langchain) (0.4.0)\n",
            "Requirement already satisfied: python-dotenv>=0.21.0 in /usr/local/lib/python3.11/dist-packages (from pydantic-settings<3.0.0,>=2.4.0->langchain_community) (1.1.0)\n",
            "Requirement already satisfied: charset-normalizer<4,>=2 in /usr/local/lib/python3.11/dist-packages (from requests<3,>=2->langchain) (3.4.1)\n",
            "Requirement already satisfied: idna<4,>=2.5 in /usr/local/lib/python3.11/dist-packages (from requests<3,>=2->langchain) (3.10)\n",
            "Requirement already satisfied: urllib3<3,>=1.21.1 in /usr/local/lib/python3.11/dist-packages (from requests<3,>=2->langchain) (2.3.0)\n",
            "Requirement already satisfied: certifi>=2017.4.17 in /usr/local/lib/python3.11/dist-packages (from requests<3,>=2->langchain) (2025.1.31)\n",
            "Requirement already satisfied: greenlet>=1 in /usr/local/lib/python3.11/dist-packages (from SQLAlchemy<3,>=1.4->langchain) (3.2.0)\n",
            "Requirement already satisfied: anyio in /usr/local/lib/python3.11/dist-packages (from httpx<1,>=0.23.0->langsmith<0.4,>=0.1.17->langchain) (4.9.0)\n",
            "Requirement already satisfied: httpcore==1.* in /usr/local/lib/python3.11/dist-packages (from httpx<1,>=0.23.0->langsmith<0.4,>=0.1.17->langchain) (1.0.8)\n",
            "Requirement already satisfied: h11<0.15,>=0.13 in /usr/local/lib/python3.11/dist-packages (from httpcore==1.*->httpx<1,>=0.23.0->langsmith<0.4,>=0.1.17->langchain) (0.14.0)\n",
            "Requirement already satisfied: mypy-extensions>=0.3.0 in /usr/local/lib/python3.11/dist-packages (from typing-inspect<1,>=0.4.0->dataclasses-json<0.7,>=0.5.7->langchain_community) (1.0.0)\n",
            "Requirement already satisfied: humanfriendly>=9.1 in /usr/local/lib/python3.11/dist-packages (from coloredlogs->onnxruntime!=1.20.0,>=1.17.0->fastembed) (10.0)\n",
            "Requirement already satisfied: mpmath<1.4,>=1.1.0 in /usr/local/lib/python3.11/dist-packages (from sympy->onnxruntime!=1.20.0,>=1.17.0->fastembed) (1.3.0)\n",
            "Requirement already satisfied: sniffio>=1.1 in /usr/local/lib/python3.11/dist-packages (from anyio->httpx<1,>=0.23.0->langsmith<0.4,>=0.1.17->langchain) (1.3.1)\n",
            "Requirement already satisfied: chromadb in /usr/local/lib/python3.11/dist-packages (0.6.3)\n",
            "Requirement already satisfied: build>=1.0.3 in /usr/local/lib/python3.11/dist-packages (from chromadb) (1.2.2.post1)\n",
            "Requirement already satisfied: pydantic>=1.9 in /usr/local/lib/python3.11/dist-packages (from chromadb) (2.11.3)\n",
            "Requirement already satisfied: chroma-hnswlib==0.7.6 in /usr/local/lib/python3.11/dist-packages (from chromadb) (0.7.6)\n",
            "Requirement already satisfied: fastapi>=0.95.2 in /usr/local/lib/python3.11/dist-packages (from chromadb) (0.115.9)\n",
            "Requirement already satisfied: uvicorn>=0.18.3 in /usr/local/lib/python3.11/dist-packages (from uvicorn[standard]>=0.18.3->chromadb) (0.34.2)\n",
            "Requirement already satisfied: numpy>=1.22.5 in /usr/local/lib/python3.11/dist-packages (from chromadb) (2.0.2)\n",
            "Requirement already satisfied: posthog>=2.4.0 in /usr/local/lib/python3.11/dist-packages (from chromadb) (3.25.0)\n",
            "Requirement already satisfied: typing_extensions>=4.5.0 in /usr/local/lib/python3.11/dist-packages (from chromadb) (4.13.2)\n",
            "Requirement already satisfied: onnxruntime>=1.14.1 in /usr/local/lib/python3.11/dist-packages (from chromadb) (1.21.1)\n",
            "Requirement already satisfied: opentelemetry-api>=1.2.0 in /usr/local/lib/python3.11/dist-packages (from chromadb) (1.32.1)\n",
            "Requirement already satisfied: opentelemetry-exporter-otlp-proto-grpc>=1.2.0 in /usr/local/lib/python3.11/dist-packages (from chromadb) (1.32.1)\n",
            "Requirement already satisfied: opentelemetry-instrumentation-fastapi>=0.41b0 in /usr/local/lib/python3.11/dist-packages (from chromadb) (0.53b1)\n",
            "Requirement already satisfied: opentelemetry-sdk>=1.2.0 in /usr/local/lib/python3.11/dist-packages (from chromadb) (1.32.1)\n",
            "Requirement already satisfied: tokenizers>=0.13.2 in /usr/local/lib/python3.11/dist-packages (from chromadb) (0.21.1)\n",
            "Requirement already satisfied: pypika>=0.48.9 in /usr/local/lib/python3.11/dist-packages (from chromadb) (0.48.9)\n",
            "Requirement already satisfied: tqdm>=4.65.0 in /usr/local/lib/python3.11/dist-packages (from chromadb) (4.67.1)\n",
            "Requirement already satisfied: overrides>=7.3.1 in /usr/local/lib/python3.11/dist-packages (from chromadb) (7.7.0)\n",
            "Requirement already satisfied: importlib-resources in /usr/local/lib/python3.11/dist-packages (from chromadb) (6.5.2)\n",
            "Requirement already satisfied: grpcio>=1.58.0 in /usr/local/lib/python3.11/dist-packages (from chromadb) (1.71.0)\n",
            "Requirement already satisfied: bcrypt>=4.0.1 in /usr/local/lib/python3.11/dist-packages (from chromadb) (4.3.0)\n",
            "Requirement already satisfied: typer>=0.9.0 in /usr/local/lib/python3.11/dist-packages (from chromadb) (0.15.2)\n",
            "Requirement already satisfied: kubernetes>=28.1.0 in /usr/local/lib/python3.11/dist-packages (from chromadb) (32.0.1)\n",
            "Requirement already satisfied: tenacity>=8.2.3 in /usr/local/lib/python3.11/dist-packages (from chromadb) (9.1.2)\n",
            "Requirement already satisfied: PyYAML>=6.0.0 in /usr/local/lib/python3.11/dist-packages (from chromadb) (6.0.2)\n",
            "Requirement already satisfied: mmh3>=4.0.1 in /usr/local/lib/python3.11/dist-packages (from chromadb) (5.1.0)\n",
            "Requirement already satisfied: orjson>=3.9.12 in /usr/local/lib/python3.11/dist-packages (from chromadb) (3.10.16)\n",
            "Requirement already satisfied: httpx>=0.27.0 in /usr/local/lib/python3.11/dist-packages (from chromadb) (0.28.1)\n",
            "Requirement already satisfied: rich>=10.11.0 in /usr/local/lib/python3.11/dist-packages (from chromadb) (14.0.0)\n",
            "Requirement already satisfied: packaging>=19.1 in /usr/local/lib/python3.11/dist-packages (from build>=1.0.3->chromadb) (24.2)\n",
            "Requirement already satisfied: pyproject_hooks in /usr/local/lib/python3.11/dist-packages (from build>=1.0.3->chromadb) (1.2.0)\n",
            "Requirement already satisfied: starlette<0.46.0,>=0.40.0 in /usr/local/lib/python3.11/dist-packages (from fastapi>=0.95.2->chromadb) (0.45.3)\n",
            "Requirement already satisfied: anyio in /usr/local/lib/python3.11/dist-packages (from httpx>=0.27.0->chromadb) (4.9.0)\n",
            "Requirement already satisfied: certifi in /usr/local/lib/python3.11/dist-packages (from httpx>=0.27.0->chromadb) (2025.1.31)\n",
            "Requirement already satisfied: httpcore==1.* in /usr/local/lib/python3.11/dist-packages (from httpx>=0.27.0->chromadb) (1.0.8)\n",
            "Requirement already satisfied: idna in /usr/local/lib/python3.11/dist-packages (from httpx>=0.27.0->chromadb) (3.10)\n",
            "Requirement already satisfied: h11<0.15,>=0.13 in /usr/local/lib/python3.11/dist-packages (from httpcore==1.*->httpx>=0.27.0->chromadb) (0.14.0)\n",
            "Requirement already satisfied: six>=1.9.0 in /usr/local/lib/python3.11/dist-packages (from kubernetes>=28.1.0->chromadb) (1.17.0)\n",
            "Requirement already satisfied: python-dateutil>=2.5.3 in /usr/local/lib/python3.11/dist-packages (from kubernetes>=28.1.0->chromadb) (2.9.0.post0)\n",
            "Requirement already satisfied: google-auth>=1.0.1 in /usr/local/lib/python3.11/dist-packages (from kubernetes>=28.1.0->chromadb) (2.38.0)\n",
            "Requirement already satisfied: websocket-client!=0.40.0,!=0.41.*,!=0.42.*,>=0.32.0 in /usr/local/lib/python3.11/dist-packages (from kubernetes>=28.1.0->chromadb) (1.8.0)\n",
            "Requirement already satisfied: requests in /usr/local/lib/python3.11/dist-packages (from kubernetes>=28.1.0->chromadb) (2.32.3)\n",
            "Requirement already satisfied: requests-oauthlib in /usr/local/lib/python3.11/dist-packages (from kubernetes>=28.1.0->chromadb) (2.0.0)\n",
            "Requirement already satisfied: oauthlib>=3.2.2 in /usr/local/lib/python3.11/dist-packages (from kubernetes>=28.1.0->chromadb) (3.2.2)\n",
            "Requirement already satisfied: urllib3>=1.24.2 in /usr/local/lib/python3.11/dist-packages (from kubernetes>=28.1.0->chromadb) (2.3.0)\n",
            "Requirement already satisfied: durationpy>=0.7 in /usr/local/lib/python3.11/dist-packages (from kubernetes>=28.1.0->chromadb) (0.9)\n",
            "Requirement already satisfied: coloredlogs in /usr/local/lib/python3.11/dist-packages (from onnxruntime>=1.14.1->chromadb) (15.0.1)\n",
            "Requirement already satisfied: flatbuffers in /usr/local/lib/python3.11/dist-packages (from onnxruntime>=1.14.1->chromadb) (25.2.10)\n",
            "Requirement already satisfied: protobuf in /usr/local/lib/python3.11/dist-packages (from onnxruntime>=1.14.1->chromadb) (5.29.4)\n",
            "Requirement already satisfied: sympy in /usr/local/lib/python3.11/dist-packages (from onnxruntime>=1.14.1->chromadb) (1.13.1)\n",
            "Requirement already satisfied: deprecated>=1.2.6 in /usr/local/lib/python3.11/dist-packages (from opentelemetry-api>=1.2.0->chromadb) (1.2.18)\n",
            "Requirement already satisfied: importlib-metadata<8.7.0,>=6.0 in /usr/local/lib/python3.11/dist-packages (from opentelemetry-api>=1.2.0->chromadb) (8.6.1)\n",
            "Requirement already satisfied: googleapis-common-protos~=1.52 in /usr/local/lib/python3.11/dist-packages (from opentelemetry-exporter-otlp-proto-grpc>=1.2.0->chromadb) (1.70.0)\n",
            "Requirement already satisfied: opentelemetry-exporter-otlp-proto-common==1.32.1 in /usr/local/lib/python3.11/dist-packages (from opentelemetry-exporter-otlp-proto-grpc>=1.2.0->chromadb) (1.32.1)\n",
            "Requirement already satisfied: opentelemetry-proto==1.32.1 in /usr/local/lib/python3.11/dist-packages (from opentelemetry-exporter-otlp-proto-grpc>=1.2.0->chromadb) (1.32.1)\n",
            "Requirement already satisfied: opentelemetry-instrumentation-asgi==0.53b1 in /usr/local/lib/python3.11/dist-packages (from opentelemetry-instrumentation-fastapi>=0.41b0->chromadb) (0.53b1)\n",
            "Requirement already satisfied: opentelemetry-instrumentation==0.53b1 in /usr/local/lib/python3.11/dist-packages (from opentelemetry-instrumentation-fastapi>=0.41b0->chromadb) (0.53b1)\n",
            "Requirement already satisfied: opentelemetry-semantic-conventions==0.53b1 in /usr/local/lib/python3.11/dist-packages (from opentelemetry-instrumentation-fastapi>=0.41b0->chromadb) (0.53b1)\n",
            "Requirement already satisfied: opentelemetry-util-http==0.53b1 in /usr/local/lib/python3.11/dist-packages (from opentelemetry-instrumentation-fastapi>=0.41b0->chromadb) (0.53b1)\n",
            "Requirement already satisfied: wrapt<2.0.0,>=1.0.0 in /usr/local/lib/python3.11/dist-packages (from opentelemetry-instrumentation==0.53b1->opentelemetry-instrumentation-fastapi>=0.41b0->chromadb) (1.17.2)\n",
            "Requirement already satisfied: asgiref~=3.0 in /usr/local/lib/python3.11/dist-packages (from opentelemetry-instrumentation-asgi==0.53b1->opentelemetry-instrumentation-fastapi>=0.41b0->chromadb) (3.8.1)\n",
            "Requirement already satisfied: monotonic>=1.5 in /usr/local/lib/python3.11/dist-packages (from posthog>=2.4.0->chromadb) (1.6)\n",
            "Requirement already satisfied: backoff>=1.10.0 in /usr/local/lib/python3.11/dist-packages (from posthog>=2.4.0->chromadb) (2.2.1)\n",
            "Requirement already satisfied: distro>=1.5.0 in /usr/lib/python3/dist-packages (from posthog>=2.4.0->chromadb) (1.7.0)\n",
            "Requirement already satisfied: annotated-types>=0.6.0 in /usr/local/lib/python3.11/dist-packages (from pydantic>=1.9->chromadb) (0.7.0)\n",
            "Requirement already satisfied: pydantic-core==2.33.1 in /usr/local/lib/python3.11/dist-packages (from pydantic>=1.9->chromadb) (2.33.1)\n",
            "Requirement already satisfied: typing-inspection>=0.4.0 in /usr/local/lib/python3.11/dist-packages (from pydantic>=1.9->chromadb) (0.4.0)\n",
            "Requirement already satisfied: markdown-it-py>=2.2.0 in /usr/local/lib/python3.11/dist-packages (from rich>=10.11.0->chromadb) (3.0.0)\n",
            "Requirement already satisfied: pygments<3.0.0,>=2.13.0 in /usr/local/lib/python3.11/dist-packages (from rich>=10.11.0->chromadb) (2.19.1)\n",
            "Requirement already satisfied: huggingface-hub<1.0,>=0.16.4 in /usr/local/lib/python3.11/dist-packages (from tokenizers>=0.13.2->chromadb) (0.30.2)\n",
            "Requirement already satisfied: click>=8.0.0 in /usr/local/lib/python3.11/dist-packages (from typer>=0.9.0->chromadb) (8.1.8)\n",
            "Requirement already satisfied: shellingham>=1.3.0 in /usr/local/lib/python3.11/dist-packages (from typer>=0.9.0->chromadb) (1.5.4)\n",
            "Requirement already satisfied: httptools>=0.6.3 in /usr/local/lib/python3.11/dist-packages (from uvicorn[standard]>=0.18.3->chromadb) (0.6.4)\n",
            "Requirement already satisfied: python-dotenv>=0.13 in /usr/local/lib/python3.11/dist-packages (from uvicorn[standard]>=0.18.3->chromadb) (1.1.0)\n",
            "Requirement already satisfied: uvloop!=0.15.0,!=0.15.1,>=0.14.0 in /usr/local/lib/python3.11/dist-packages (from uvicorn[standard]>=0.18.3->chromadb) (0.21.0)\n",
            "Requirement already satisfied: watchfiles>=0.13 in /usr/local/lib/python3.11/dist-packages (from uvicorn[standard]>=0.18.3->chromadb) (1.0.5)\n",
            "Requirement already satisfied: websockets>=10.4 in /usr/local/lib/python3.11/dist-packages (from uvicorn[standard]>=0.18.3->chromadb) (15.0.1)\n",
            "Requirement already satisfied: cachetools<6.0,>=2.0.0 in /usr/local/lib/python3.11/dist-packages (from google-auth>=1.0.1->kubernetes>=28.1.0->chromadb) (5.5.2)\n",
            "Requirement already satisfied: pyasn1-modules>=0.2.1 in /usr/local/lib/python3.11/dist-packages (from google-auth>=1.0.1->kubernetes>=28.1.0->chromadb) (0.4.2)\n",
            "Requirement already satisfied: rsa<5,>=3.1.4 in /usr/local/lib/python3.11/dist-packages (from google-auth>=1.0.1->kubernetes>=28.1.0->chromadb) (4.9.1)\n",
            "Requirement already satisfied: filelock in /usr/local/lib/python3.11/dist-packages (from huggingface-hub<1.0,>=0.16.4->tokenizers>=0.13.2->chromadb) (3.18.0)\n",
            "Requirement already satisfied: fsspec>=2023.5.0 in /usr/local/lib/python3.11/dist-packages (from huggingface-hub<1.0,>=0.16.4->tokenizers>=0.13.2->chromadb) (2025.3.2)\n",
            "Requirement already satisfied: zipp>=3.20 in /usr/local/lib/python3.11/dist-packages (from importlib-metadata<8.7.0,>=6.0->opentelemetry-api>=1.2.0->chromadb) (3.21.0)\n",
            "Requirement already satisfied: mdurl~=0.1 in /usr/local/lib/python3.11/dist-packages (from markdown-it-py>=2.2.0->rich>=10.11.0->chromadb) (0.1.2)\n",
            "Requirement already satisfied: charset-normalizer<4,>=2 in /usr/local/lib/python3.11/dist-packages (from requests->kubernetes>=28.1.0->chromadb) (3.4.1)\n",
            "Requirement already satisfied: sniffio>=1.1 in /usr/local/lib/python3.11/dist-packages (from anyio->httpx>=0.27.0->chromadb) (1.3.1)\n",
            "Requirement already satisfied: humanfriendly>=9.1 in /usr/local/lib/python3.11/dist-packages (from coloredlogs->onnxruntime>=1.14.1->chromadb) (10.0)\n",
            "Requirement already satisfied: mpmath<1.4,>=1.1.0 in /usr/local/lib/python3.11/dist-packages (from sympy->onnxruntime>=1.14.1->chromadb) (1.3.0)\n",
            "Requirement already satisfied: pyasn1<0.7.0,>=0.6.1 in /usr/local/lib/python3.11/dist-packages (from pyasn1-modules>=0.2.1->google-auth>=1.0.1->kubernetes>=28.1.0->chromadb) (0.6.1)\n",
            "Requirement already satisfied: sentence_transformers in /usr/local/lib/python3.11/dist-packages (4.1.0)\n",
            "Requirement already satisfied: transformers<5.0.0,>=4.41.0 in /usr/local/lib/python3.11/dist-packages (from sentence_transformers) (4.51.3)\n",
            "Requirement already satisfied: tqdm in /usr/local/lib/python3.11/dist-packages (from sentence_transformers) (4.67.1)\n",
            "Requirement already satisfied: torch>=1.11.0 in /usr/local/lib/python3.11/dist-packages (from sentence_transformers) (2.6.0+cpu)\n",
            "Requirement already satisfied: scikit-learn in /usr/local/lib/python3.11/dist-packages (from sentence_transformers) (1.6.1)\n",
            "Requirement already satisfied: scipy in /usr/local/lib/python3.11/dist-packages (from sentence_transformers) (1.14.1)\n",
            "Requirement already satisfied: huggingface-hub>=0.20.0 in /usr/local/lib/python3.11/dist-packages (from sentence_transformers) (0.30.2)\n",
            "Requirement already satisfied: Pillow in /usr/local/lib/python3.11/dist-packages (from sentence_transformers) (11.2.1)\n",
            "Requirement already satisfied: typing_extensions>=4.5.0 in /usr/local/lib/python3.11/dist-packages (from sentence_transformers) (4.13.2)\n",
            "Requirement already satisfied: filelock in /usr/local/lib/python3.11/dist-packages (from huggingface-hub>=0.20.0->sentence_transformers) (3.18.0)\n",
            "Requirement already satisfied: fsspec>=2023.5.0 in /usr/local/lib/python3.11/dist-packages (from huggingface-hub>=0.20.0->sentence_transformers) (2025.3.2)\n",
            "Requirement already satisfied: packaging>=20.9 in /usr/local/lib/python3.11/dist-packages (from huggingface-hub>=0.20.0->sentence_transformers) (24.2)\n",
            "Requirement already satisfied: pyyaml>=5.1 in /usr/local/lib/python3.11/dist-packages (from huggingface-hub>=0.20.0->sentence_transformers) (6.0.2)\n",
            "Requirement already satisfied: requests in /usr/local/lib/python3.11/dist-packages (from huggingface-hub>=0.20.0->sentence_transformers) (2.32.3)\n",
            "Requirement already satisfied: networkx in /usr/local/lib/python3.11/dist-packages (from torch>=1.11.0->sentence_transformers) (3.4.2)\n",
            "Requirement already satisfied: jinja2 in /usr/local/lib/python3.11/dist-packages (from torch>=1.11.0->sentence_transformers) (3.1.6)\n",
            "Requirement already satisfied: sympy==1.13.1 in /usr/local/lib/python3.11/dist-packages (from torch>=1.11.0->sentence_transformers) (1.13.1)\n",
            "Requirement already satisfied: mpmath<1.4,>=1.1.0 in /usr/local/lib/python3.11/dist-packages (from sympy==1.13.1->torch>=1.11.0->sentence_transformers) (1.3.0)\n",
            "Requirement already satisfied: numpy>=1.17 in /usr/local/lib/python3.11/dist-packages (from transformers<5.0.0,>=4.41.0->sentence_transformers) (2.0.2)\n",
            "Requirement already satisfied: regex!=2019.12.17 in /usr/local/lib/python3.11/dist-packages (from transformers<5.0.0,>=4.41.0->sentence_transformers) (2024.11.6)\n",
            "Requirement already satisfied: tokenizers<0.22,>=0.21 in /usr/local/lib/python3.11/dist-packages (from transformers<5.0.0,>=4.41.0->sentence_transformers) (0.21.1)\n",
            "Requirement already satisfied: safetensors>=0.4.3 in /usr/local/lib/python3.11/dist-packages (from transformers<5.0.0,>=4.41.0->sentence_transformers) (0.5.3)\n",
            "Requirement already satisfied: joblib>=1.2.0 in /usr/local/lib/python3.11/dist-packages (from scikit-learn->sentence_transformers) (1.4.2)\n",
            "Requirement already satisfied: threadpoolctl>=3.1.0 in /usr/local/lib/python3.11/dist-packages (from scikit-learn->sentence_transformers) (3.6.0)\n",
            "Requirement already satisfied: MarkupSafe>=2.0 in /usr/local/lib/python3.11/dist-packages (from jinja2->torch>=1.11.0->sentence_transformers) (3.0.2)\n",
            "Requirement already satisfied: charset-normalizer<4,>=2 in /usr/local/lib/python3.11/dist-packages (from requests->huggingface-hub>=0.20.0->sentence_transformers) (3.4.1)\n",
            "Requirement already satisfied: idna<4,>=2.5 in /usr/local/lib/python3.11/dist-packages (from requests->huggingface-hub>=0.20.0->sentence_transformers) (3.10)\n",
            "Requirement already satisfied: urllib3<3,>=1.21.1 in /usr/local/lib/python3.11/dist-packages (from requests->huggingface-hub>=0.20.0->sentence_transformers) (2.3.0)\n",
            "Requirement already satisfied: certifi>=2017.4.17 in /usr/local/lib/python3.11/dist-packages (from requests->huggingface-hub>=0.20.0->sentence_transformers) (2025.1.31)\n"
          ]
        }
      ],
      "source": [
        "!pip install langgraph\n",
        "!pip install langchain-groq\n",
        "!pip install langchain langchain_core langchain_community fastembed\n",
        "!pip install chromadb # RAG first knowledge base llms\n",
        "!pip install sentence_transformers"
      ]
    },
    {
      "cell_type": "code",
      "source": [
        "!pip install -qU langchain-groq langchain langchain_core \"langchain-chroma>=0.1.2\" langchain_community sentence_transformers fastembed lark\n",
        "!pip install langgraph\n",
        "!pip install langgraph-checkpoint-sqlite"
      ],
      "metadata": {
        "colab": {
          "base_uri": "https://localhost:8080/"
        },
        "id": "DFBz7NA0PgkS",
        "outputId": "f09dfdd5-e44f-469c-bc24-db6189dd58b9"
      },
      "execution_count": 3,
      "outputs": [
        {
          "output_type": "stream",
          "name": "stdout",
          "text": [
            "Requirement already satisfied: langgraph in /usr/local/lib/python3.11/dist-packages (0.3.31)\n",
            "Requirement already satisfied: langchain-core<0.4,>=0.1 in /usr/local/lib/python3.11/dist-packages (from langgraph) (0.3.55)\n",
            "Requirement already satisfied: langgraph-checkpoint<3.0.0,>=2.0.10 in /usr/local/lib/python3.11/dist-packages (from langgraph) (2.0.24)\n",
            "Requirement already satisfied: langgraph-prebuilt<0.2,>=0.1.8 in /usr/local/lib/python3.11/dist-packages (from langgraph) (0.1.8)\n",
            "Requirement already satisfied: langgraph-sdk<0.2.0,>=0.1.42 in /usr/local/lib/python3.11/dist-packages (from langgraph) (0.1.63)\n",
            "Requirement already satisfied: xxhash<4.0.0,>=3.5.0 in /usr/local/lib/python3.11/dist-packages (from langgraph) (3.5.0)\n",
            "Requirement already satisfied: langsmith<0.4,>=0.1.125 in /usr/local/lib/python3.11/dist-packages (from langchain-core<0.4,>=0.1->langgraph) (0.3.33)\n",
            "Requirement already satisfied: tenacity!=8.4.0,<10.0.0,>=8.1.0 in /usr/local/lib/python3.11/dist-packages (from langchain-core<0.4,>=0.1->langgraph) (9.1.2)\n",
            "Requirement already satisfied: jsonpatch<2.0,>=1.33 in /usr/local/lib/python3.11/dist-packages (from langchain-core<0.4,>=0.1->langgraph) (1.33)\n",
            "Requirement already satisfied: PyYAML>=5.3 in /usr/local/lib/python3.11/dist-packages (from langchain-core<0.4,>=0.1->langgraph) (6.0.2)\n",
            "Requirement already satisfied: packaging<25,>=23.2 in /usr/local/lib/python3.11/dist-packages (from langchain-core<0.4,>=0.1->langgraph) (24.2)\n",
            "Requirement already satisfied: typing-extensions>=4.7 in /usr/local/lib/python3.11/dist-packages (from langchain-core<0.4,>=0.1->langgraph) (4.13.2)\n",
            "Requirement already satisfied: pydantic<3.0.0,>=2.5.2 in /usr/local/lib/python3.11/dist-packages (from langchain-core<0.4,>=0.1->langgraph) (2.11.3)\n",
            "Requirement already satisfied: ormsgpack<2.0.0,>=1.8.0 in /usr/local/lib/python3.11/dist-packages (from langgraph-checkpoint<3.0.0,>=2.0.10->langgraph) (1.9.1)\n",
            "Requirement already satisfied: httpx>=0.25.2 in /usr/local/lib/python3.11/dist-packages (from langgraph-sdk<0.2.0,>=0.1.42->langgraph) (0.28.1)\n",
            "Requirement already satisfied: orjson>=3.10.1 in /usr/local/lib/python3.11/dist-packages (from langgraph-sdk<0.2.0,>=0.1.42->langgraph) (3.10.16)\n",
            "Requirement already satisfied: anyio in /usr/local/lib/python3.11/dist-packages (from httpx>=0.25.2->langgraph-sdk<0.2.0,>=0.1.42->langgraph) (4.9.0)\n",
            "Requirement already satisfied: certifi in /usr/local/lib/python3.11/dist-packages (from httpx>=0.25.2->langgraph-sdk<0.2.0,>=0.1.42->langgraph) (2025.1.31)\n",
            "Requirement already satisfied: httpcore==1.* in /usr/local/lib/python3.11/dist-packages (from httpx>=0.25.2->langgraph-sdk<0.2.0,>=0.1.42->langgraph) (1.0.8)\n",
            "Requirement already satisfied: idna in /usr/local/lib/python3.11/dist-packages (from httpx>=0.25.2->langgraph-sdk<0.2.0,>=0.1.42->langgraph) (3.10)\n",
            "Requirement already satisfied: h11<0.15,>=0.13 in /usr/local/lib/python3.11/dist-packages (from httpcore==1.*->httpx>=0.25.2->langgraph-sdk<0.2.0,>=0.1.42->langgraph) (0.14.0)\n",
            "Requirement already satisfied: jsonpointer>=1.9 in /usr/local/lib/python3.11/dist-packages (from jsonpatch<2.0,>=1.33->langchain-core<0.4,>=0.1->langgraph) (3.0.0)\n",
            "Requirement already satisfied: requests<3,>=2 in /usr/local/lib/python3.11/dist-packages (from langsmith<0.4,>=0.1.125->langchain-core<0.4,>=0.1->langgraph) (2.32.3)\n",
            "Requirement already satisfied: requests-toolbelt<2.0.0,>=1.0.0 in /usr/local/lib/python3.11/dist-packages (from langsmith<0.4,>=0.1.125->langchain-core<0.4,>=0.1->langgraph) (1.0.0)\n",
            "Requirement already satisfied: zstandard<0.24.0,>=0.23.0 in /usr/local/lib/python3.11/dist-packages (from langsmith<0.4,>=0.1.125->langchain-core<0.4,>=0.1->langgraph) (0.23.0)\n",
            "Requirement already satisfied: annotated-types>=0.6.0 in /usr/local/lib/python3.11/dist-packages (from pydantic<3.0.0,>=2.5.2->langchain-core<0.4,>=0.1->langgraph) (0.7.0)\n",
            "Requirement already satisfied: pydantic-core==2.33.1 in /usr/local/lib/python3.11/dist-packages (from pydantic<3.0.0,>=2.5.2->langchain-core<0.4,>=0.1->langgraph) (2.33.1)\n",
            "Requirement already satisfied: typing-inspection>=0.4.0 in /usr/local/lib/python3.11/dist-packages (from pydantic<3.0.0,>=2.5.2->langchain-core<0.4,>=0.1->langgraph) (0.4.0)\n",
            "Requirement already satisfied: charset-normalizer<4,>=2 in /usr/local/lib/python3.11/dist-packages (from requests<3,>=2->langsmith<0.4,>=0.1.125->langchain-core<0.4,>=0.1->langgraph) (3.4.1)\n",
            "Requirement already satisfied: urllib3<3,>=1.21.1 in /usr/local/lib/python3.11/dist-packages (from requests<3,>=2->langsmith<0.4,>=0.1.125->langchain-core<0.4,>=0.1->langgraph) (2.3.0)\n",
            "Requirement already satisfied: sniffio>=1.1 in /usr/local/lib/python3.11/dist-packages (from anyio->httpx>=0.25.2->langgraph-sdk<0.2.0,>=0.1.42->langgraph) (1.3.1)\n",
            "Collecting langgraph-checkpoint-sqlite\n",
            "  Using cached langgraph_checkpoint_sqlite-2.0.6-py3-none-any.whl.metadata (3.0 kB)\n",
            "Collecting aiosqlite<0.22,>=0.20 (from langgraph-checkpoint-sqlite)\n",
            "  Using cached aiosqlite-0.21.0-py3-none-any.whl.metadata (4.3 kB)\n",
            "Requirement already satisfied: langgraph-checkpoint<3.0.0,>=2.0.15 in /usr/local/lib/python3.11/dist-packages (from langgraph-checkpoint-sqlite) (2.0.24)\n",
            "Requirement already satisfied: typing_extensions>=4.0 in /usr/local/lib/python3.11/dist-packages (from aiosqlite<0.22,>=0.20->langgraph-checkpoint-sqlite) (4.13.2)\n",
            "Requirement already satisfied: langchain-core<0.4,>=0.2.38 in /usr/local/lib/python3.11/dist-packages (from langgraph-checkpoint<3.0.0,>=2.0.15->langgraph-checkpoint-sqlite) (0.3.55)\n",
            "Requirement already satisfied: ormsgpack<2.0.0,>=1.8.0 in /usr/local/lib/python3.11/dist-packages (from langgraph-checkpoint<3.0.0,>=2.0.15->langgraph-checkpoint-sqlite) (1.9.1)\n",
            "Requirement already satisfied: langsmith<0.4,>=0.1.125 in /usr/local/lib/python3.11/dist-packages (from langchain-core<0.4,>=0.2.38->langgraph-checkpoint<3.0.0,>=2.0.15->langgraph-checkpoint-sqlite) (0.3.33)\n",
            "Requirement already satisfied: tenacity!=8.4.0,<10.0.0,>=8.1.0 in /usr/local/lib/python3.11/dist-packages (from langchain-core<0.4,>=0.2.38->langgraph-checkpoint<3.0.0,>=2.0.15->langgraph-checkpoint-sqlite) (9.1.2)\n",
            "Requirement already satisfied: jsonpatch<2.0,>=1.33 in /usr/local/lib/python3.11/dist-packages (from langchain-core<0.4,>=0.2.38->langgraph-checkpoint<3.0.0,>=2.0.15->langgraph-checkpoint-sqlite) (1.33)\n",
            "Requirement already satisfied: PyYAML>=5.3 in /usr/local/lib/python3.11/dist-packages (from langchain-core<0.4,>=0.2.38->langgraph-checkpoint<3.0.0,>=2.0.15->langgraph-checkpoint-sqlite) (6.0.2)\n",
            "Requirement already satisfied: packaging<25,>=23.2 in /usr/local/lib/python3.11/dist-packages (from langchain-core<0.4,>=0.2.38->langgraph-checkpoint<3.0.0,>=2.0.15->langgraph-checkpoint-sqlite) (24.2)\n",
            "Requirement already satisfied: pydantic<3.0.0,>=2.5.2 in /usr/local/lib/python3.11/dist-packages (from langchain-core<0.4,>=0.2.38->langgraph-checkpoint<3.0.0,>=2.0.15->langgraph-checkpoint-sqlite) (2.11.3)\n",
            "Requirement already satisfied: jsonpointer>=1.9 in /usr/local/lib/python3.11/dist-packages (from jsonpatch<2.0,>=1.33->langchain-core<0.4,>=0.2.38->langgraph-checkpoint<3.0.0,>=2.0.15->langgraph-checkpoint-sqlite) (3.0.0)\n",
            "Requirement already satisfied: httpx<1,>=0.23.0 in /usr/local/lib/python3.11/dist-packages (from langsmith<0.4,>=0.1.125->langchain-core<0.4,>=0.2.38->langgraph-checkpoint<3.0.0,>=2.0.15->langgraph-checkpoint-sqlite) (0.28.1)\n",
            "Requirement already satisfied: orjson<4.0.0,>=3.9.14 in /usr/local/lib/python3.11/dist-packages (from langsmith<0.4,>=0.1.125->langchain-core<0.4,>=0.2.38->langgraph-checkpoint<3.0.0,>=2.0.15->langgraph-checkpoint-sqlite) (3.10.16)\n",
            "Requirement already satisfied: requests<3,>=2 in /usr/local/lib/python3.11/dist-packages (from langsmith<0.4,>=0.1.125->langchain-core<0.4,>=0.2.38->langgraph-checkpoint<3.0.0,>=2.0.15->langgraph-checkpoint-sqlite) (2.32.3)\n",
            "Requirement already satisfied: requests-toolbelt<2.0.0,>=1.0.0 in /usr/local/lib/python3.11/dist-packages (from langsmith<0.4,>=0.1.125->langchain-core<0.4,>=0.2.38->langgraph-checkpoint<3.0.0,>=2.0.15->langgraph-checkpoint-sqlite) (1.0.0)\n",
            "Requirement already satisfied: zstandard<0.24.0,>=0.23.0 in /usr/local/lib/python3.11/dist-packages (from langsmith<0.4,>=0.1.125->langchain-core<0.4,>=0.2.38->langgraph-checkpoint<3.0.0,>=2.0.15->langgraph-checkpoint-sqlite) (0.23.0)\n",
            "Requirement already satisfied: annotated-types>=0.6.0 in /usr/local/lib/python3.11/dist-packages (from pydantic<3.0.0,>=2.5.2->langchain-core<0.4,>=0.2.38->langgraph-checkpoint<3.0.0,>=2.0.15->langgraph-checkpoint-sqlite) (0.7.0)\n",
            "Requirement already satisfied: pydantic-core==2.33.1 in /usr/local/lib/python3.11/dist-packages (from pydantic<3.0.0,>=2.5.2->langchain-core<0.4,>=0.2.38->langgraph-checkpoint<3.0.0,>=2.0.15->langgraph-checkpoint-sqlite) (2.33.1)\n",
            "Requirement already satisfied: typing-inspection>=0.4.0 in /usr/local/lib/python3.11/dist-packages (from pydantic<3.0.0,>=2.5.2->langchain-core<0.4,>=0.2.38->langgraph-checkpoint<3.0.0,>=2.0.15->langgraph-checkpoint-sqlite) (0.4.0)\n",
            "Requirement already satisfied: anyio in /usr/local/lib/python3.11/dist-packages (from httpx<1,>=0.23.0->langsmith<0.4,>=0.1.125->langchain-core<0.4,>=0.2.38->langgraph-checkpoint<3.0.0,>=2.0.15->langgraph-checkpoint-sqlite) (4.9.0)\n",
            "Requirement already satisfied: certifi in /usr/local/lib/python3.11/dist-packages (from httpx<1,>=0.23.0->langsmith<0.4,>=0.1.125->langchain-core<0.4,>=0.2.38->langgraph-checkpoint<3.0.0,>=2.0.15->langgraph-checkpoint-sqlite) (2025.1.31)\n",
            "Requirement already satisfied: httpcore==1.* in /usr/local/lib/python3.11/dist-packages (from httpx<1,>=0.23.0->langsmith<0.4,>=0.1.125->langchain-core<0.4,>=0.2.38->langgraph-checkpoint<3.0.0,>=2.0.15->langgraph-checkpoint-sqlite) (1.0.8)\n",
            "Requirement already satisfied: idna in /usr/local/lib/python3.11/dist-packages (from httpx<1,>=0.23.0->langsmith<0.4,>=0.1.125->langchain-core<0.4,>=0.2.38->langgraph-checkpoint<3.0.0,>=2.0.15->langgraph-checkpoint-sqlite) (3.10)\n",
            "Requirement already satisfied: h11<0.15,>=0.13 in /usr/local/lib/python3.11/dist-packages (from httpcore==1.*->httpx<1,>=0.23.0->langsmith<0.4,>=0.1.125->langchain-core<0.4,>=0.2.38->langgraph-checkpoint<3.0.0,>=2.0.15->langgraph-checkpoint-sqlite) (0.14.0)\n",
            "Requirement already satisfied: charset-normalizer<4,>=2 in /usr/local/lib/python3.11/dist-packages (from requests<3,>=2->langsmith<0.4,>=0.1.125->langchain-core<0.4,>=0.2.38->langgraph-checkpoint<3.0.0,>=2.0.15->langgraph-checkpoint-sqlite) (3.4.1)\n",
            "Requirement already satisfied: urllib3<3,>=1.21.1 in /usr/local/lib/python3.11/dist-packages (from requests<3,>=2->langsmith<0.4,>=0.1.125->langchain-core<0.4,>=0.2.38->langgraph-checkpoint<3.0.0,>=2.0.15->langgraph-checkpoint-sqlite) (2.3.0)\n",
            "Requirement already satisfied: sniffio>=1.1 in /usr/local/lib/python3.11/dist-packages (from anyio->httpx<1,>=0.23.0->langsmith<0.4,>=0.1.125->langchain-core<0.4,>=0.2.38->langgraph-checkpoint<3.0.0,>=2.0.15->langgraph-checkpoint-sqlite) (1.3.1)\n",
            "Using cached langgraph_checkpoint_sqlite-2.0.6-py3-none-any.whl (12 kB)\n",
            "Using cached aiosqlite-0.21.0-py3-none-any.whl (15 kB)\n",
            "Installing collected packages: aiosqlite, langgraph-checkpoint-sqlite\n",
            "Successfully installed aiosqlite-0.21.0 langgraph-checkpoint-sqlite-2.0.6\n"
          ]
        }
      ]
    },
    {
      "cell_type": "code",
      "source": [
        "import getpass\n",
        "import os\n",
        "os.environ[\"GROQ_API_KEY\"] = getpass.getpass(\"Key:\")\n",
        "\n"
      ],
      "metadata": {
        "colab": {
          "base_uri": "https://localhost:8080/"
        },
        "id": "9OeXo8OmBQEr",
        "outputId": "b270db11-fc46-49f5-afaf-d14bd40fd3d7"
      },
      "execution_count": 33,
      "outputs": [
        {
          "name": "stdout",
          "output_type": "stream",
          "text": [
            "Key:··········\n"
          ]
        }
      ]
    },
    {
      "cell_type": "code",
      "source": [
        "# load llama model hosted on Groq Cloud\n",
        "from langchain_groq import ChatGroq\n",
        "\n",
        "model = ChatGroq(\n",
        "    # model = \"llama3-groq-8b-8192-tool-use-preview\",\n",
        "    model = \"llama-3.3-70b-versatile\",\n",
        "    temperature = 0.25,\n",
        "    max_tokens= None,\n",
        "    timeout=None,\n",
        "    max_retries=2\n",
        ")\n",
        "# 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"
      ],
      "metadata": {
        "id": "_ZxuEUZhC-jb"
      },
      "execution_count": 35,
      "outputs": []
    },
    {
      "cell_type": "code",
      "source": [
        "from langchain_community.document_loaders import TextLoader, DirectoryLoader\n",
        "from langchain.text_splitter import RecursiveCharacterTextSplitter\n",
        "from langchain.vectorstores import Chroma\n",
        "from langchain.embeddings import HuggingFaceEmbeddings\n",
        "\n",
        "# Step 1: Load the documents\n",
        "loader = DirectoryLoader('./Agents_Data', glob=\"**/*.txt\", loader_cls=TextLoader)\n",
        "docs = loader.load()\n",
        "\n",
        "# Step 2: Split the documents\n",
        "text_splitter = RecursiveCharacterTextSplitter(chunk_size=100, chunk_overlap=0)\n",
        "new_docs = text_splitter.split_documents(docs)\n",
        "\n",
        "# Step 3: Set up embeddings\n",
        "model_name = \"BAAI/bge-base-en-v1.5\" # good for vector db for similarity S\n",
        "model_kwargs = {'device': 'cpu'}\n",
        "encode_kwargs = {'normalize_embedding': True}\n",
        "embeddings = HuggingFaceEmbeddings(\n",
        "    model_name=model_name,\n",
        "    model_kwargs=model_kwargs,\n",
        "    encode_kwargs=encode_kwargs\n",
        ")\n",
        "\n",
        "# Step 4: Create or load the Chroma vector store with persistence\n",
        "persist_directory = \"./chroma_db\"\n",
        "db = Chroma.from_documents(\n",
        "    new_docs,\n",
        "    embedding=embeddings,\n",
        "    persist_directory=persist_directory,\n",
        "    collection_name=\"my_collection\"\n",
        ")\n",
        "\n",
        "# Step 5: Persist to disk so you avoid collection errors later\n",
        "db.persist()\n",
        "\n",
        "# Step 6: Create a retriever\n",
        "retriever = db.as_retriever(search_kwargs={\"k\": 4})\n"
      ],
      "metadata": {
        "id": "veF1a_eqgF4K"
      },
      "execution_count": 36,
      "outputs": []
    },
    {
      "cell_type": "code",
      "source": [
        "import joblib\n",
        "mlp = joblib.load(\"mlp_model.pkl\")"
      ],
      "metadata": {
        "id": "6uWxVYsj9QBv"
      },
      "execution_count": 37,
      "outputs": []
    },
    {
      "cell_type": "code",
      "source": [
        "def classify_senti(text: str) -> str:\n",
        "    embedding = embedding_model.embed_documents([text])\n",
        "    label = mlp.predict(embedding)[0]\n",
        "    return \"Positive\" if label == 1 else \"Negative\"\n",
        "\n",
        "print(classify_senti(\"i am angry\"))\n",
        "print(classify_senti(\"i am sad\"))\n",
        "print(classify_senti(\"i am happy\"))\n",
        "print(classify_senti(\"i am excited\"))\n",
        "print(classify_senti(\"i am very afraid to go outside\"))\n",
        "print(classify_senti(\"i am the king of the world\"))\n",
        "print(classify_senti(\"i love you\"))\n",
        "print(classify_senti(\"i hate you\"))\n",
        "print(classify_senti(\"i am the devil\"))\n",
        "\n",
        "\n",
        "\n",
        "\n",
        "\n",
        "# Checking sentiment from classification model\n"
      ],
      "metadata": {
        "id": "U0LAQeIVlH8F",
        "colab": {
          "base_uri": "https://localhost:8080/"
        },
        "outputId": "240cd096-7b75-4793-f168-84bdd06ce5c6"
      },
      "execution_count": 38,
      "outputs": [
        {
          "output_type": "stream",
          "name": "stdout",
          "text": [
            "Negative\n",
            "Negative\n",
            "Positive\n",
            "Positive\n",
            "Negative\n",
            "Positive\n",
            "Positive\n",
            "Negative\n",
            "Negative\n"
          ]
        }
      ]
    },
    {
      "cell_type": "code",
      "source": [
        "# defining AgenticState/memory - history, memory - internal record - save as seed in lang graph\n",
        "from typing import TypedDict, Annotated, Sequence\n",
        "import operator\n",
        "from langchain_core.messages import BaseMessage\n",
        "\n",
        "class AgenticState(TypedDict): # L= type\n",
        "  message: Annotated[Sequence[BaseMessage], operator.add]\n",
        "  sentiment: bool\n",
        "  content : str\n",
        "  question : str\n",
        "\n",
        "  # ... other fields like plan, content, etc.\n",
        "\n",
        "# can change in earlier states if needed\n"
      ],
      "metadata": {
        "id": "5wU7FayiFSCD"
      },
      "execution_count": 39,
      "outputs": []
    },
    {
      "cell_type": "code",
      "source": [
        "from pydantic import BaseModel , Field\n",
        "from langchain.prompts import PromptTemplate\n",
        "from langchain.schema.runnable import RunnablePassthrough # Importing RunnablePassthrough\n",
        "from langchain_core.output_parsers import StrOutputParser, PydanticOutputParser\n",
        "# To extract text, sentiment, topic etc - function\n",
        "# Topic identification - function call ( first Rag then llm )\n",
        "class TopicSelectionParser(BaseModel): # Return a single key, \"Topic\", as a string.\n",
        "  Topic: str = Field(description = \"Selected Topic\")\n",
        "\n",
        "parser = PydanticOutputParser(pydantic_object=TopicSelectionParser) # cleaning response cleaning only- response"
      ],
      "metadata": {
        "id": "4AGGque6djlX"
      },
      "execution_count": 40,
      "outputs": []
    },
    {
      "cell_type": "code",
      "source": [
        "!pip install tavily-python"
      ],
      "metadata": {
        "colab": {
          "base_uri": "https://localhost:8080/"
        },
        "id": "xDz2vD_62emH",
        "outputId": "b9305b64-8c51-458c-b05a-bb9ffbe1b9d1"
      },
      "execution_count": 41,
      "outputs": [
        {
          "output_type": "stream",
          "name": "stdout",
          "text": [
            "Requirement already satisfied: tavily-python in /usr/local/lib/python3.11/dist-packages (0.5.4)\n",
            "Requirement already satisfied: requests in /usr/local/lib/python3.11/dist-packages (from tavily-python) (2.32.3)\n",
            "Requirement already satisfied: tiktoken>=0.5.1 in /usr/local/lib/python3.11/dist-packages (from tavily-python) (0.9.0)\n",
            "Requirement already satisfied: httpx in /usr/local/lib/python3.11/dist-packages (from tavily-python) (0.28.1)\n",
            "Requirement already satisfied: regex>=2022.1.18 in /usr/local/lib/python3.11/dist-packages (from tiktoken>=0.5.1->tavily-python) (2024.11.6)\n",
            "Requirement already satisfied: charset-normalizer<4,>=2 in /usr/local/lib/python3.11/dist-packages (from requests->tavily-python) (3.4.1)\n",
            "Requirement already satisfied: idna<4,>=2.5 in /usr/local/lib/python3.11/dist-packages (from requests->tavily-python) (3.10)\n",
            "Requirement already satisfied: urllib3<3,>=1.21.1 in /usr/local/lib/python3.11/dist-packages (from requests->tavily-python) (2.3.0)\n",
            "Requirement already satisfied: certifi>=2017.4.17 in /usr/local/lib/python3.11/dist-packages (from requests->tavily-python) (2025.1.31)\n",
            "Requirement already satisfied: anyio in /usr/local/lib/python3.11/dist-packages (from httpx->tavily-python) (4.9.0)\n",
            "Requirement already satisfied: httpcore==1.* in /usr/local/lib/python3.11/dist-packages (from httpx->tavily-python) (1.0.8)\n",
            "Requirement already satisfied: h11<0.15,>=0.13 in /usr/local/lib/python3.11/dist-packages (from httpcore==1.*->httpx->tavily-python) (0.14.0)\n",
            "Requirement already satisfied: sniffio>=1.1 in /usr/local/lib/python3.11/dist-packages (from anyio->httpx->tavily-python) (1.3.1)\n",
            "Requirement already satisfied: typing_extensions>=4.5 in /usr/local/lib/python3.11/dist-packages (from anyio->httpx->tavily-python) (4.13.2)\n"
          ]
        }
      ]
    },
    {
      "cell_type": "code",
      "source": [
        "import os\n",
        "import getpass\n",
        "os.environ[\"TAVILY_API_KEY\"] = getpass.getpass(\"Key:\")\n",
        "## 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"
      ],
      "metadata": {
        "colab": {
          "base_uri": "https://localhost:8080/"
        },
        "id": "IzPaNaVh2Q-y",
        "outputId": "06e14f6f-e3a7-4d33-d535-9268d4184422"
      },
      "execution_count": 42,
      "outputs": [
        {
          "name": "stdout",
          "output_type": "stream",
          "text": [
            "Key:··········\n"
          ]
        }
      ]
    },
    {
      "cell_type": "code",
      "source": [
        "from tavily import TavilyClient\n",
        "import os\n",
        "tavily = TavilyClient(api_key=os.environ[\"TAVILY_API_KEY\"])"
      ],
      "metadata": {
        "id": "B6ulCCKy2Zdr"
      },
      "execution_count": 43,
      "outputs": []
    },
    {
      "cell_type": "code",
      "source": [
        "from langchain.tools.tavily_search import TavilySearchResults\n",
        "\n",
        "# SENTIMENT NODE\n",
        "def sentiment_node(state):\n",
        "    text = state[\"message\"][-1]\n",
        "    embedding = embedding_model.embed_documents([text])\n",
        "    label = mlp.predict(embedding)[0]\n",
        "    sentiment = \"Positive\" if label == 1 else \"Negative\"\n",
        "    state[\"sentiment\"] = sentiment\n",
        "    return state\n",
        "\n",
        "\n",
        "# AGENT NODE - Topic classifier\n",
        "def agent_topic(state):\n",
        "    message = state['message']\n",
        "    question = message[-1]\n",
        "    template = \"\"\" Your task is to provide only the topic based on the user query.\n",
        "        Only output the topic among: [Marketing , Health , Content , Not Related]. Don't include reasoning. Following is the user query:  {question}\n",
        "        {format_instructions} \"\"\"\n",
        "    prompt = PromptTemplate(\n",
        "        template=template,\n",
        "        input_variables=[\"question\"],\n",
        "        partial_variables={\"format_instructions\": parser.get_format_instructions()}\n",
        "    )\n",
        "    chain = prompt | model | parser\n",
        "    result = chain.invoke({\"question\": question})\n",
        "    return {\"message\": [result.Topic], \"sentiment\": state[\"sentiment\"]}\n",
        "\n",
        "\n",
        "#  RAG NODE\n",
        "def rag(state):\n",
        "    message = state[\"message\"]\n",
        "    question = message[0]\n",
        "    sentiment = state.get(\"sentiment\", \"Positive\")\n",
        "\n",
        "    tone = \"Please answer in a kind and supportive tone if sentiment is Negative else answer Positive.\" if sentiment == \"Negative\" else \"Positive.\"\n",
        "\n",
        "    template = f\"\"\"{tone}\n",
        "\n",
        "Answer the question based on the following context:\n",
        "{{content}}\n",
        "\n",
        "Question: {{question}}\"\"\"\n",
        "\n",
        "    prompt = PromptTemplate.from_template(template)\n",
        "\n",
        "    rag_chain = (\n",
        "        {'content': retriever, 'question': RunnablePassthrough()}\n",
        "        | prompt\n",
        "        | model\n",
        "        | StrOutputParser()\n",
        "    )\n",
        "\n",
        "    result = rag_chain.invoke(question)\n",
        "    return {\"message\": [result]}\n",
        "\n",
        "\n",
        "#  LLM NODE\n",
        "def llm_node(state):\n",
        "    message = state['message']\n",
        "    sentiment = state.get(\"sentiment\", \"Positive\")\n",
        "    question = message[0]\n",
        "\n",
        "    tone = \"Please answer in a kind and supportive tone if sentiment is negative else answer positive.\" if sentiment == \"Negative\" else \"Positive.\"\n",
        "    prompt = f\"{tone}\\n\\nUser Question based on real world example: {question}\"\n",
        "\n",
        "    response = model.invoke(prompt)\n",
        "\n",
        "    return {\"message\": [response.content]}\n",
        "\n",
        "\n",
        "\n",
        "# ROUTER - Decides between RAG/LLM\n",
        "\n",
        "\n",
        "def router(state):\n",
        "    topic = state[\"message\"][-1]\n",
        "    if topic in [\"latest\",\"trend\",'recent','current','latest news']:\n",
        "        return \"WebSearch call\"\n",
        "    elif topic in [\"marketing\", \"health\",\"fun\", \"fun facts\"]:\n",
        "        return \"RAG call\"\n",
        "    else:\n",
        "        return \"LLM call\"\n",
        "\n",
        "def web_search_node(state):\n",
        "    query = state[\"message\"][-1]\n",
        "    search = TavilySearchResults()\n",
        "    results = tavily_tool.run(query)\n",
        "    content = \"\\n\".join([r['snippet'] for r in results['results']])\n",
        "    state[\"message\"] = [content]\n",
        "    return state\n"
      ],
      "metadata": {
        "id": "pQ9OuDgmKesR"
      },
      "execution_count": 44,
      "outputs": []
    },
    {
      "cell_type": "code",
      "source": [
        "from langgraph.graph import StateGraph, END\n",
        "# Define graph\n",
        "graph = StateGraph(AgenticState)\n",
        "\n",
        "# Add nodes\n",
        "graph.add_node(\"Sentiment\", sentiment_node)\n",
        "graph.add_node(\"Agent\", agent_topic)\n",
        "graph.add_node(\"Live Search\", web_search_node)\n",
        "graph.add_node(\"RAG\", rag)\n",
        "graph.add_node(\"LLM\", llm_node)\n",
        "\n",
        "# Entry point\n",
        "graph.set_entry_point(\"Sentiment\")\n",
        "\n",
        "# Flow\n",
        "graph.add_edge(\"Sentiment\", \"Agent\")\n",
        "\n",
        "# Conditional branching AFTER Agent decides where to go\n",
        "graph.add_conditional_edges(\"Agent\", router, {\n",
        "    \"RAG call\": \"RAG\",\n",
        "    \"LLM call\": \"LLM\",\n",
        "    \"WebSearch call\": \"Live Search\"\n",
        "})\n",
        "\n",
        "# If WebSearch is used, route its output to LLM\n",
        "graph.add_edge(\"Live Search\", \"LLM\")\n",
        "\n",
        "# Final outputs\n",
        "graph.add_edge(\"RAG\", END)\n",
        "graph.add_edge(\"LLM\", END)\n",
        "\n",
        "# Compile\n",
        "app = graph.compile()\n"
      ],
      "metadata": {
        "id": "ZpiWv2phBd6H"
      },
      "execution_count": 45,
      "outputs": []
    },
    {
      "cell_type": "code",
      "source": [
        "from IPython.display import Image, display\n",
        "from langchain_core.runnables.graph import CurveStyle, MermaidDrawMethod, NodeStyles\n",
        "\n",
        "display(\n",
        "    Image(\n",
        "        app.get_graph().draw_mermaid_png(\n",
        "            draw_method=MermaidDrawMethod.API,\n",
        "        )\n",
        "    )\n",
        ")\n"
      ],
      "metadata": {
        "colab": {
          "base_uri": "https://localhost:8080/",
          "height": 572
        },
        "id": "AV9IIAR_KRDx",
        "outputId": "521ca868-06e6-432e-da6b-4f01eb5d62a3"
      },
      "execution_count": 46,
      "outputs": [
        {
          "output_type": "display_data",
          "data": {
            "image/png": "[encoded data removed]",
            "text/plain": [
              "<IPython.core.display.Image object>"
            ]
          },
          "metadata": {}
        }
      ]
    },
    {
      "cell_type": "code",
      "source": [
        "# Live search query\n",
        "input = {'message': ['tell me the latest news about war on Gaza']}\n",
        "app.invoke(input)\n"
      ],
      "metadata": {
        "colab": {
          "base_uri": "https://localhost:8080/"
        },
        "id": "fYkvkZ2ZB1By",
        "outputId": "09e4ba97-cbd7-47bc-c305-acd9b9ee8230"
      },
      "execution_count": 47,
      "outputs": [
        {
          "output_type": "execute_result",
          "data": {
            "text/plain": [
              "{'message': ['tell me the latest news about war on Gaza',\n",
              "  'tell me the latest news about war on Gaza',\n",
              "  'Not Related',\n",
              "  \"I'm happy to provide you with the latest news on the situation in Gaza. However, please note that the situation is constantly evolving, and my knowledge may not be up to the minute. As of my knowledge cutoff, here is a summary of the recent developments:\\n\\n**Recent Escalations:**\\nIn recent months, there have been increased tensions and violence between Israel and Palestinian militant groups in Gaza. The conflict has resulted in significant damage to infrastructure, displacement of civilians, and loss of life on both sides.\\n\\n**Current Situation:**\\nAs of my knowledge cutoff, the situation in Gaza remains volatile, with periodic outbreaks of violence and exchanges of fire between Israeli forces and Palestinian militant groups. The Israeli military has been conducting airstrikes and other operations in Gaza, while Palestinian militant groups have been launching rockets and other projectiles into Israel.\\n\\n**Humanitarian Concerns:**\\nThe conflict has had a significant impact on the civilian population in Gaza, with many residents facing shortages of food, water, and medical supplies. The United Nations and other humanitarian organizations have been working to provide aid to those affected by the conflict.\\n\\n**International Response:**\\nThe international community has been calling for a ceasefire and a return to negotiations to resolve the underlying issues driving the conflict. The United States, European Union, and other countries have been working to support a peaceful resolution to the conflict, while also providing humanitarian aid to those affected.\\n\\n**Recent Developments:**\\nSome recent developments in the conflict include:\\n\\n* The Israeli military has been conducting operations in Gaza to target Palestinian militant groups, including Hamas and Islamic Jihad.\\n* Palestinian militant groups have been launching rockets and other projectiles into Israel, resulting in damage and injuries.\\n* The United Nations has been working to provide humanitarian aid to those affected by the conflict, including food, water, and medical supplies.\\n* The international community has been calling for a ceasefire and a return to negotiations to resolve the underlying issues driving the conflict.\\n\\n**Sources:**\\nFor the most up-to-date information on the situation in Gaza, I recommend checking reputable news sources such as:\\n\\n* BBC News\\n* Al Jazeera\\n* The New York Times\\n* Haaretz\\n* The Guardian\\n\\nPlease note that the situation is constantly evolving, and my knowledge may not be up to the minute. I recommend checking multiple sources for the latest information and updates on the conflict.\"],\n",
              " 'sentiment': 'Positive'}"
            ]
          },
          "metadata": {},
          "execution_count": 47
        }
      ]
    },
    {
      "cell_type": "code",
      "source": [
        "# RAG\n",
        "input = {'message': ['tell me fun fact']}\n",
        "app.invoke(input)\n"
      ],
      "metadata": {
        "colab": {
          "base_uri": "https://localhost:8080/"
        },
        "id": "kPO6vcxACS29",
        "outputId": "bf1e40c6-c793-4e8c-ebf8-a53797ff611c"
      },
      "execution_count": 49,
      "outputs": [
        {
          "output_type": "execute_result",
          "data": {
            "text/plain": [
              "{'message': ['tell me fun fact',\n",
              "  'tell me fun fact',\n",
              "  'Not Related',\n",
              "  'Here\\'s a fun fact: Did you know that there\\'s a species of jellyfish that\\'s immortal? The Turritopsis dohrnii, also known as the \"immortal jellyfish,\" is a type of jellyfish that can transform its body into a younger state through a process called transdifferentiation. This means that it can essentially revert back to its polyp stage, which is the juvenile form of a jellyfish, and then grow back into an adult again. This process can be repeated indefinitely, making the Turritopsis dohrnii theoretically immortal. Isn\\'t that cool?'],\n",
              " 'sentiment': 'Positive'}"
            ]
          },
          "metadata": {},
          "execution_count": 49
        }
      ]
    },
    {
      "cell_type": "code",
      "source": [
        "# Depression - neg sentiment\n",
        "input = {'message': ['i am concern about my father health as he is getting older']}\n",
        "app.invoke(input)"
      ],
      "metadata": {
        "colab": {
          "base_uri": "https://localhost:8080/"
        },
        "id": "JlzdaBTCEK-C",
        "outputId": "02c59236-a2a9-4ab4-b2b3-8b4ba30b81f1"
      },
      "execution_count": 108,
      "outputs": [
        {
          "output_type": "execute_result",
          "data": {
            "text/plain": [
              "{'message': ['i am concern about my father health as he is getting older',\n",
              "  'i am concern about my father health as he is getting older',\n",
              "  'Health',\n",
              "  \"I can totally understand your concern, and it's completely natural to feel that way. As our parents age, it's normal to worry about their health and well-being. It's great that you're thinking about your father's health and wanting to support him.\\n\\nHave you considered talking to your father about your concerns and seeing if there's anything you can do to help him stay healthy and active? Sometimes, just having an open and honest conversation can help alleviate some of the worries and concerns.\\n\\nAdditionally, you may want to look into resources that can help support your father's health, such as regular check-ups with his doctor, exercise programs, or nutrition counseling. There are also many organizations and support groups that can provide guidance and assistance for caregivers and family members.\\n\\nRemember, you're not alone in this, and there are many people who care about your father's health and well-being, including his healthcare team and loved ones. If you need any additional support or just someone to talk to, don't hesitate to reach out. How can I assist you further in supporting your father's health?\"],\n",
              " 'sentiment': 'Negative'}"
            ]
          },
          "metadata": {},
          "execution_count": 108
        }
      ]
    },
    {
      "cell_type": "markdown",
      "source": [
        "## Marketing intelligence Agent"
      ],
      "metadata": {
        "id": "jB53iJsbOfY3"
      }
    },
    {
      "cell_type": "code",
      "source": [
        "from typing import TypedDict, List\n",
        "from langchain_core.messages import AnyMessage, SystemMessage, HumanMessage, AIMessage, ChatMessage\n",
        "\n",
        "class AgentState(TypedDict):\n",
        "    task: str\n",
        "    plan: str\n",
        "    draft: str\n",
        "    critique: str\n",
        "    content: List[str]\n",
        "    revision_number: int\n",
        "    max_revisions: int\n",
        ""
      ],
      "metadata": {
        "id": "WiR0ctZ4IHlN"
      },
      "execution_count": 97,
      "outputs": []
    },
    {
      "cell_type": "code",
      "source": [
        "from langchain_core.pydantic_v1 import BaseModel\n",
        "\n",
        "class Queries(BaseModel):\n",
        "    queries: List[str]"
      ],
      "metadata": {
        "id": "1GvX1y0MR4wI"
      },
      "execution_count": 98,
      "outputs": []
    },
    {
      "cell_type": "code",
      "source": [
        "from langgraph.graph import StateGraph, END\n",
        "from typing import TypedDict, List\n",
        "from langgraph.checkpoint.sqlite import SqliteSaver\n",
        "from langchain_core.messages import HumanMessage\n",
        "from langchain_groq import ChatGroq\n",
        "\n",
        "from langchain_groq import ChatGroq\n",
        "\n",
        "# Entry/Planning\n",
        "llm_planner = ChatGroq(\n",
        "    temperature=0.3,\n",
        "    model_name=\"gemma2-9b-it\",\n",
        "    max_retries=2\n",
        ")\n",
        "\n",
        "#  Generation\n",
        "llm_generate  = ChatGroq(\n",
        "    temperature=0.75,\n",
        "    model_name=\"mixtral-8x7b-32768\",\n",
        ")\n",
        "\n",
        "# Instruction Following\n",
        "llm_refiner = ChatGroq(\n",
        "    temperature=0.35,\n",
        "    model_name=\"llama-3.3-70b-versatile\",\n",
        "    max_retries=2\n",
        ")\n"
      ],
      "metadata": {
        "id": "b2jt5JsjjLw1"
      },
      "execution_count": 99,
      "outputs": []
    },
    {
      "cell_type": "code",
      "source": [
        "PLAN_PROMPT = \"\"\"You are a business intelligence analyst. Given the following business query,\n",
        "generate a high-level analysis plan including:\n",
        "1. Key market factors to research\n",
        "2. Potential competitors to examine\n",
        "3. Relevant industry trends to consider\n",
        "4. Recommended business opportunities\"\"\"\n",
        "\n",
        "RESEARCH_PLAN_PROMPT = \"\"\"As a business researcher, generate 3-5 precise search queries\n",
        "to gather relevant market data about: {topic}. Focus on:\n",
        "- Market size and growth trends\n",
        "- Competitive analysis and landscape\n",
        "- Customer segments\n",
        "- Industry challenges and opportunities\n",
        "- SWOT and PEST\"\"\"\n",
        "\n",
        "WRITER_PROMPT =\"\"\"Analyze this market data and provide insights about:\n",
        "1. Current market trends\n",
        "2. Key competitors and their positioning\n",
        "3. Potential opportunities\n",
        "4. Risks and challenges\n",
        "{content}\"\"\"\n",
        "\n",
        "REFLECTION_PROMPT = \"\"\"Compile a professional business intelligence report with:\n",
        "1. Executive Summary\n",
        "2. Market Overview\n",
        "3. Competitive Analysis\n",
        "4. Opportunities Assessment\n",
        "5. Strategic Recommendations\"\"\"\n",
        "\n",
        "\n",
        "RESEARCH_CRITIQUE_PROMPT = \"\"\"Critique this business intelligence report:\n",
        "1. Are the market trends accurately identified?\n",
        "2. Is the competitive analysis comprehensive?\n",
        "3. Do the recommendations follow logically from the data?\n",
        "4. What additional research might be needed?\"\"\"\n"
      ],
      "metadata": {
        "id": "w4cwgUg4gGJa"
      },
      "execution_count": 100,
      "outputs": []
    },
    {
      "cell_type": "code",
      "source": [
        "def plan_node(state: AgentState):\n",
        "    messages = [\n",
        "        SystemMessage(content=PLAN_PROMPT),\n",
        "        HumanMessage(content=state['task'])\n",
        "    ]\n",
        "    response = llm_planner.invoke(messages)\n",
        "    return {\"plan\": response.content}\n",
        "\n",
        "def research_plan_node(state: AgentState):\n",
        "    queries = llm_planner.with_structured_output(Queries).invoke([\n",
        "        SystemMessage(content=RESEARCH_PLAN_PROMPT),\n",
        "        HumanMessage(content=state['task'])\n",
        "    ])\n",
        "    content = state['content'] or []\n",
        "    for q in queries.queries:\n",
        "        response = tavily.search(query=q, max_results=2)\n",
        "        for r in response['results']:\n",
        "            content.append(r['content'])\n",
        "    return {\"content\": content}\n",
        "\n",
        "def generation_node(state: AgentState):\n",
        "    content = \"\\n\\n\".join(state['content'] or [])\n",
        "    user_message = HumanMessage(\n",
        "        content=f\"{state['task']}\\n\\nHere is my plan:\\n\\n{state['plan']}\")\n",
        "    messages = [\n",
        "        SystemMessage(\n",
        "            content=WRITER_PROMPT.format(content=content)\n",
        "        ),\n",
        "        user_message\n",
        "        ]\n",
        "    response = llm_generate.invoke(messages)\n",
        "    return {\n",
        "        \"draft\": response.content,\n",
        "        \"revision_number\": state.get(\"revision_number\", 1) + 1\n",
        "    }\n",
        "\n",
        "\n",
        "def reflection_node(state: AgentState):\n",
        "    messages = [\n",
        "        SystemMessage(content=REFLECTION_PROMPT),\n",
        "        HumanMessage(content=state['draft'])\n",
        "    ]\n",
        "    response = llm_refiner.invoke(messages)\n",
        "    return {\"critique\": response.content}\n",
        "\n",
        "def research_critique_node(state: AgentState):\n",
        "    queries = llm_refiner.with_structured_output(Queries).invoke([\n",
        "        SystemMessage(content=RESEARCH_CRITIQUE_PROMPT),\n",
        "        HumanMessage(content=state['critique'])\n",
        "    ])\n",
        "    content = state['content'] or []\n",
        "    for q in queries.queries:\n",
        "        response = tavily.search(query=q, max_results=2)\n",
        "        for r in response['results']:\n",
        "            content.append(r['content'])\n",
        "    return {\"content\": content}\n",
        "\n",
        "def should_continue(state):\n",
        "    if state[\"revision_number\"] > state[\"max_revisions\"]:\n",
        "        return END\n",
        "    return \"reflect\""
      ],
      "metadata": {
        "id": "jZ5fzLDbgGRf"
      },
      "execution_count": 102,
      "outputs": []
    },
    {
      "cell_type": "code",
      "source": [
        "builder = StateGraph(AgentState)\n",
        "\n",
        "builder.add_node(\"planner\", plan_node)\n",
        "builder.add_node(\"research_plan\", research_plan_node)\n",
        "builder.add_node(\"generate\", generation_node)\n",
        "builder.add_node(\"reflect\", reflection_node)\n",
        "builder.add_node(\"research_critique\", research_critique_node)\n",
        "\n",
        "builder.set_entry_point(\"planner\")\n",
        "\n",
        "builder.add_conditional_edges(\n",
        "    \"generate\",\n",
        "    should_continue,\n",
        "    {END: END, \"reflect\": \"reflect\"}\n",
        ")\n",
        "\n",
        "builder.add_edge(\"planner\", \"research_plan\")\n",
        "builder.add_edge(\"research_plan\", \"generate\")\n",
        "\n",
        "builder.add_edge(\"reflect\", \"research_critique\")\n",
        "builder.add_edge(\"research_critique\", \"generate\")"
      ],
      "metadata": {
        "colab": {
          "base_uri": "https://localhost:8080/"
        },
        "id": "8IZ-9-awg7zd",
        "outputId": "3ed15874-3a4a-4221-8a25-a9c9560b3c36"
      },
      "execution_count": 103,
      "outputs": [
        {
          "output_type": "execute_result",
          "data": {
            "text/plain": [
              "<langgraph.graph.state.StateGraph at 0x787e1dd0ecd0>"
            ]
          },
          "metadata": {},
          "execution_count": 103
        }
      ]
    },
    {
      "cell_type": "code",
      "source": [
        "from IPython.display import Image, display\n",
        "from langchain_core.runnables.graph import CurveStyle, MermaidDrawMethod, NodeStyles\n",
        "\n",
        "with SqliteSaver.from_conn_string(\":memory:\") as memory:\n",
        "  graph = builder.compile(checkpointer=memory)\n",
        "\n",
        "  display(\n",
        "      Image(\n",
        "          graph.get_graph().draw_mermaid_png(\n",
        "              draw_method=MermaidDrawMethod.API,\n",
        "          )\n",
        "      )\n",
        "  )\n",
        "\n",
        "  thread = {\"configurable\": {\"thread_id\": \"1\"}}\n",
        "\n",
        "  for s in graph.stream({\n",
        "      'task': \"what is the difference between langchain and langsmith\",\n",
        "      \"max_revisions\": 2,\n",
        "      \"revision_number\": 1,\n",
        "      \"content\": []\n",
        "  }, thread):\n",
        "      print(s)"
      ],
      "metadata": {
        "colab": {
          "base_uri": "https://localhost:8080/",
          "height": 495
        },
        "id": "aZ9caXN8gGVF",
        "outputId": "2e23cbdb-67bb-4d30-f62e-0707881d7a59"
      },
      "execution_count": 104,
      "outputs": [
        {
          "output_type": "error",
          "ename": "ValueError",
          "evalue": "Failed to reach https://mermaid.ink/ API while trying to render your graph. Status code: 502.\n\nTo resolve this issue:\n1. Check your internet connection and try again\n2. Try with higher retry settings: `draw_mermaid_png(..., max_retries=5, retry_delay=2.0)`\n3. Use the Pyppeteer rendering method which will render your graph locally in a browser: `draw_mermaid_png(..., draw_method=MermaidDrawMethod.PYPPETEER)`",
          "traceback": [
            "\u001b[0;31m---------------------------------------------------------------------------\u001b[0m",
            "\u001b[0;31mValueError\u001b[0m                                Traceback (most recent call last)",
            "\u001b[0;32m<ipython-input-104-a9462e638718>\u001b[0m in \u001b[0;36m<cell line: 0>\u001b[0;34m()\u001b[0m\n\u001b[1;32m      7\u001b[0m   display(\n\u001b[1;32m      8\u001b[0m       Image(\n\u001b[0;32m----> 9\u001b[0;31m           graph.get_graph().draw_mermaid_png(\n\u001b[0m\u001b[1;32m     10\u001b[0m               \u001b[0mdraw_method\u001b[0m\u001b[0;34m=\u001b[0m\u001b[0mMermaidDrawMethod\u001b[0m\u001b[0;34m.\u001b[0m\u001b[0mAPI\u001b[0m\u001b[0;34m,\u001b[0m\u001b[0;34m\u001b[0m\u001b[0;34m\u001b[0m\u001b[0m\n\u001b[1;32m     11\u001b[0m           )\n",
            "\u001b[0;32m/usr/local/lib/python3.11/dist-packages/langchain_core/runnables/graph.py\u001b[0m in \u001b[0;36mdraw_mermaid_png\u001b[0;34m(self, curve_style, node_colors, wrap_label_n_words, output_file_path, draw_method, background_color, padding, max_retries, retry_delay, frontmatter_config)\u001b[0m\n\u001b[1;32m    683\u001b[0m             \u001b[0mfrontmatter_config\u001b[0m\u001b[0;34m=\u001b[0m\u001b[0mfrontmatter_config\u001b[0m\u001b[0;34m,\u001b[0m\u001b[0;34m\u001b[0m\u001b[0;34m\u001b[0m\u001b[0m\n\u001b[1;32m    684\u001b[0m         )\n\u001b[0;32m--> 685\u001b[0;31m         return draw_mermaid_png(\n\u001b[0m\u001b[1;32m    686\u001b[0m             \u001b[0mmermaid_syntax\u001b[0m\u001b[0;34m=\u001b[0m\u001b[0mmermaid_syntax\u001b[0m\u001b[0;34m,\u001b[0m\u001b[0;34m\u001b[0m\u001b[0;34m\u001b[0m\u001b[0m\n\u001b[1;32m    687\u001b[0m             \u001b[0moutput_file_path\u001b[0m\u001b[0;34m=\u001b[0m\u001b[0moutput_file_path\u001b[0m\u001b[0;34m,\u001b[0m\u001b[0;34m\u001b[0m\u001b[0;34m\u001b[0m\u001b[0m\n",
            "\u001b[0;32m/usr/local/lib/python3.11/dist-packages/langchain_core/runnables/graph_mermaid.py\u001b[0m in \u001b[0;36mdraw_mermaid_png\u001b[0;34m(mermaid_syntax, output_file_path, draw_method, background_color, padding, max_retries, retry_delay)\u001b[0m\n\u001b[1;32m    291\u001b[0m         )\n\u001b[1;32m    292\u001b[0m     \u001b[0;32melif\u001b[0m \u001b[0mdraw_method\u001b[0m \u001b[0;34m==\u001b[0m \u001b[0mMermaidDrawMethod\u001b[0m\u001b[0;34m.\u001b[0m\u001b[0mAPI\u001b[0m\u001b[0;34m:\u001b[0m\u001b[0;34m\u001b[0m\u001b[0;34m\u001b[0m\u001b[0m\n\u001b[0;32m--> 293\u001b[0;31m         img_bytes = _render_mermaid_using_api(\n\u001b[0m\u001b[1;32m    294\u001b[0m             \u001b[0mmermaid_syntax\u001b[0m\u001b[0;34m,\u001b[0m\u001b[0;34m\u001b[0m\u001b[0;34m\u001b[0m\u001b[0m\n\u001b[1;32m    295\u001b[0m             \u001b[0moutput_file_path\u001b[0m\u001b[0;34m=\u001b[0m\u001b[0moutput_file_path\u001b[0m\u001b[0;34m,\u001b[0m\u001b[0;34m\u001b[0m\u001b[0;34m\u001b[0m\u001b[0m\n",
            "\u001b[0;32m/usr/local/lib/python3.11/dist-packages/langchain_core/runnables/graph_mermaid.py\u001b[0m in \u001b[0;36m_render_mermaid_using_api\u001b[0;34m(mermaid_syntax, output_file_path, background_color, file_type, max_retries, retry_delay)\u001b[0m\n\u001b[1;32m    448\u001b[0m                 \u001b[0;34mf\"your graph. Status code: {response.status_code}.\\n\\n\"\u001b[0m\u001b[0;34m\u001b[0m\u001b[0;34m\u001b[0m\u001b[0m\n\u001b[1;32m    449\u001b[0m             ) + error_msg_suffix\n\u001b[0;32m--> 450\u001b[0;31m             \u001b[0;32mraise\u001b[0m \u001b[0mValueError\u001b[0m\u001b[0;34m(\u001b[0m\u001b[0mmsg\u001b[0m\u001b[0;34m)\u001b[0m\u001b[0;34m\u001b[0m\u001b[0;34m\u001b[0m\u001b[0m\n\u001b[0m\u001b[1;32m    451\u001b[0m \u001b[0;34m\u001b[0m\u001b[0m\n\u001b[1;32m    452\u001b[0m         \u001b[0;32mexcept\u001b[0m \u001b[0;34m(\u001b[0m\u001b[0mrequests\u001b[0m\u001b[0;34m.\u001b[0m\u001b[0mRequestException\u001b[0m\u001b[0;34m,\u001b[0m \u001b[0mrequests\u001b[0m\u001b[0;34m.\u001b[0m\u001b[0mTimeout\u001b[0m\u001b[0;34m)\u001b[0m \u001b[0;32mas\u001b[0m \u001b[0me\u001b[0m\u001b[0;34m:\u001b[0m\u001b[0;34m\u001b[0m\u001b[0;34m\u001b[0m\u001b[0m\n",
            "\u001b[0;31mValueError\u001b[0m: Failed to reach https://mermaid.ink/ API while trying to render your graph. Status code: 502.\n\nTo resolve this issue:\n1. Check your internet connection and try again\n2. Try with higher retry settings: `draw_mermaid_png(..., max_retries=5, retry_delay=2.0)`\n3. Use the Pyppeteer rendering method which will render your graph locally in a browser: `draw_mermaid_png(..., draw_method=MermaidDrawMethod.PYPPETEER)`"
          ]
        }
      ]
    },
    {
      "cell_type": "code",
      "source": [
        "apps = builder.compile()"
      ],
      "metadata": {
        "id": "uzlIxX_JgGaE"
      },
      "execution_count": null,
      "outputs": []
    },
    {
      "cell_type": "code",
      "source": [
        "apps.invoke({\n",
        "      'task': \"Give me Report on Engro vs Fauji fertilizers\",\n",
        "      \"max_revisions\": 2,\n",
        "      \"revision_number\": 1,\n",
        "      \"content\": []})"
      ],
      "metadata": {
        "colab": {
          "base_uri": "https://localhost:8080/"
        },
        "id": "3KD3Qzu8gGdh",
        "outputId": "9d63a0fc-ff35-4adf-d70c-ae95bf0d6d5a"
      },
      "execution_count": 105,
      "outputs": [
        {
          "output_type": "execute_result",
          "data": {
            "text/plain": [
              "{'task': 'Give me Report on Engro vs Fauji fertilizers',\n",
              " 'plan': '**Business Intelligence Report: Engro Fertilizers vs Fauji Fertilizers**\\n\\n**Introduction:**\\nThe Pakistani fertilizer industry is a significant sector, with Engro Fertilizers and Fauji Fertilizers being two of the leading players. This report provides a comparative analysis of these two companies, highlighting their key market factors, competitors, industry trends, and potential business opportunities.\\n\\n**Key Market Factors to Research:**\\n\\n1. **Market Share:** Engro Fertilizers has a market share of around 30%, while Fauji Fertilizers has a market share of approximately 25%.\\n2. **Production Capacity:** Engro Fertilizers has a production capacity of 2.3 million tons per annum, while Fauji Fertilizers has a production capacity of 1.8 million tons per annum.\\n3. **Product Portfolio:** Both companies offer a range of fertilizer products, including urea, diammonium phosphate (DAP), and nitrogen-phosphorus-potassium (NPK) fertilizers.\\n4. **Pricing Strategy:** Engro Fertilizers and Fauji Fertilizers have similar pricing strategies, with prices influenced by government subsidies, global market trends, and production costs.\\n5. **Distribution Network:** Both companies have an extensive distribution network, with Engro Fertilizers having a stronger presence in the southern region and Fauji Fertilizers having a stronger presence in the northern region.\\n\\n**Potential Competitors to Examine:**\\n\\n1. **Fatima Fertilizer:** A significant player in the Pakistani fertilizer industry, with a market share of around 15%.\\n2. **Dawood Hercules:** A conglomerate with interests in the fertilizer sector, including a joint venture with Engro Fertilizers.\\n3. **Arif Habib Group:** A business group with interests in the fertilizer sector, including a stake in Fauji Fertilizers.\\n\\n**Relevant Industry Trends to Consider:**\\n\\n1. **Government Subsidies:** The Pakistani government provides subsidies to the fertilizer industry, which can impact pricing and profitability.\\n2. **Global Market Trends:** Global fertilizer prices and demand can influence the Pakistani market, with Engro Fertilizers and Fauji Fertilizers having significant export operations.\\n3. **Sustainability and Environmental Concerns:** The fertilizer industry is under increasing pressure to adopt sustainable and environmentally friendly practices, with Engro Fertilizers and Fauji Fertilizers investing in initiatives to reduce their environmental footprint.\\n4. **Technological Advancements:** The adoption of technology, such as precision agriculture and digital farming, is becoming increasingly important in the fertilizer industry, with both companies investing in these areas.\\n\\n**Recommended Business Opportunities:**\\n\\n1. **Diversification into Related Products:** Engro Fertilizers and Fauji Fertilizers could consider diversifying into related products, such as seeds, pesticides, and farm equipment, to increase their revenue streams and competitiveness.\\n2. **Expansion into New Markets:** Both companies could explore opportunities to expand into new markets, such as Africa and the Middle East, to increase their export sales and revenue.\\n3. **Investment in Sustainability and Environmental Initiatives:** Engro Fertilizers and Fauji Fertilizers could invest in sustainability and environmental initiatives, such as renewable energy and waste reduction, to improve their brand reputation and reduce their environmental footprint.\\n4. **Development of Digital Platforms:** Both companies could develop digital platforms to provide farmers with access to information, services, and products, improving their customer engagement and loyalty.\\n\\n**Conclusion:**\\nEngro Fertilizers and Fauji Fertilizers are two leading players in the Pakistani fertilizer industry, with similar market shares, production capacities, and product portfolios. To remain competitive, both companies should focus on diversification, expansion into new markets, investment in sustainability and environmental initiatives, and development of digital platforms. By adopting these strategies, Engro Fertilizers and Fauji Fertilizers can increase their revenue, improve their brand reputation, and maintain their market leadership in the Pakistani fertilizer industry.',\n",
              " 'draft': \"**Business Intelligence Report: Engro Fertilizers vs Fauji Fertilizers**\\n\\n**Introduction:**\\nThe Pakistani fertilizer industry is a significant sector, with Engro Fertilizers and Fauji Fertilizers being two of the leading players. This report provides a comparative analysis of these two companies, highlighting their key market factors, competitors, industry trends, and potential business opportunities.\\n\\n**Current Market Trends:**\\nThe Pakistani fertilizer industry is experiencing a decline in urea consumption, with a 27% year-over-year collapse in urea offtake to 446,000 metric tons in January 2025. In contrast, diammonium phosphate (DAP) sales have declined by 6% year-over-year to 63,000 metric tons. Engro Fertilizers and Fauji Fertilizers are adapting to these trends by diversifying their product portfolios and investing in sustainability initiatives.\\n\\n**Key Competitors and Their Positioning:**\\n\\n1. **Engro Fertilizers:** Market cap of 252.05 billion, with a 31.67% increase in market cap over the past year. Engro Fertilizers has a strong presence in the southern region, with a production capacity of 2.3 million tons per annum.\\n2. **Fauji Fertilizers:** Market cap of 1.87 billion, with a stock price of $1.31. Fauji Fertilizers has a strong presence in the northern region, with a production capacity of 1.8 million tons per annum.\\n3. **Fatima Fertilizer:** A significant player in the Pakistani fertilizer industry, with a market share of around 15%.\\n4. **Dawood Hercules:** A conglomerate with interests in the fertilizer sector, including a joint venture with Engro Fertilizers.\\n5. **Arif Habib Group:** A business group with interests in the fertilizer sector, including a stake in Fauji Fertilizers.\\n\\n**Potential Opportunities:**\\n\\n1. **Diversification into Related Products:** Engro Fertilizers and Fauji Fertilizers could consider diversifying into related products, such as seeds, pesticides, and farm equipment, to increase their revenue streams and competitiveness.\\n2. **Expansion into New Markets:** Both companies could explore opportunities to expand into new markets, such as Africa and the Middle East, to increase their export sales and revenue.\\n3. **Investment in Sustainability and Environmental Initiatives:** Engro Fertilizers and Fauji Fertilizers could invest in sustainability and environmental initiatives, such as renewable energy and waste reduction, to improve their brand reputation and reduce their environmental footprint.\\n4. **Development of Digital Platforms:** Both companies could develop digital platforms to provide farmers with access to information, services, and products, improving their customer engagement and loyalty.\\n\\n**Risks and Challenges:**\\n\\n1. **Government Subsidies:** The Pakistani government's subsidy policies can impact the profitability of Engro Fertilizers and Fauji Fertilizers.\\n2. **Global Market Trends:** Fluctuations in global fertilizer prices and demand can affect the Pakistani market, with Engro Fertilizers and Fauji Fertilizers having significant export operations.\\n3. **Sustainability and Environmental Concerns:** The fertilizer industry is under increasing pressure to adopt sustainable and environmentally friendly practices, with Engro Fertilizers and Fauji Fertilizers facing challenges in reducing their environmental footprint.\\n4. **Technological Advancements:** The adoption of technology, such as precision agriculture and digital farming, is becoming increasingly important in the fertilizer industry, with both companies facing challenges in investing in these areas.\\n\\n**Conclusion:**\\nEngro Fertilizers and Fauji Fertilizers are two leading players in the Pakistani fertilizer industry, with similar market shares, production capacities, and product portfolios. To remain competitive, both companies should focus on diversification, expansion into new markets, investment in sustainability and environmental initiatives, and development of digital platforms. By adopting these strategies, Engro Fertilizers and Fauji Fertilizers can increase their revenue, improve their brand reputation, and maintain their market leadership in the Pakistani fertilizer industry.\\n\\n**Recommendations:**\\n\\n1. **Conduct Market Research:** Engro Fertilizers and Fauji Fertilizers should conduct market research to identify new business opportunities and stay ahead of the competition.\\n2. **Invest in Sustainability Initiatives:** Both companies should invest in sustainability initiatives, such as renewable energy and waste reduction, to improve their brand reputation and reduce their environmental footprint.\\n3. **Develop Digital Platforms:** Engro Fertilizers and Fauji Fertilizers should develop digital platforms to provide farmers with access to information, services, and products, improving their customer engagement and loyalty.\\n4. **Diversify Product Portfolios:** Both companies should consider diversifying their product portfolios to include related products, such as seeds, pesticides, and farm equipment, to increase their revenue streams and competitiveness.\",\n",
              " 'critique': '**Business Intelligence Report: Engro Fertilizers vs Fauji Fertilizers**\\n\\n### 1. Executive Summary\\nThe Pakistani fertilizer industry is experiencing a decline in urea consumption, with Engro Fertilizers and Fauji Fertilizers adapting to the trend by diversifying their product portfolios and investing in sustainability initiatives. This report provides a comparative analysis of the two companies, highlighting their market position, competitors, industry trends, and potential business opportunities. The key findings of this report include the need for diversification, expansion into new markets, investment in sustainability and environmental initiatives, and development of digital platforms.\\n\\n### 2. Market Overview\\nThe Pakistani fertilizer industry is a significant sector, with Engro Fertilizers and Fauji Fertilizers being two of the leading players. The industry is experiencing a decline in urea consumption, with a 27% year-over-year collapse in urea offtake to 446,000 metric tons in January 2025. In contrast, diammonium phosphate (DAP) sales have declined by 6% year-over-year to 63,000 metric tons. The market is highly competitive, with key competitors including Fatima Fertilizer, Dawood Hercules, and Arif Habib Group.\\n\\n### 3. Competitive Analysis\\nEngro Fertilizers and Fauji Fertilizers are positioned as market leaders, with a strong presence in the Pakistani fertilizer industry. Engro Fertilizers has a market share of around 30%, while Fauji Fertilizers has a market share of approximately 25%. The key competitors in the industry are:\\n\\n* Fatima Fertilizer: A significant player with a market share of around 15%.\\n* Dawood Hercules: A conglomerate with interests in the fertilizer sector, including a joint venture with Engro Fertilizers.\\n* Arif Habib Group: A business group with interests in the fertilizer sector, including a stake in Fauji Fertilizers.\\n\\n### 4. Opportunities Assessment\\nThe potential opportunities for Engro Fertilizers and Fauji Fertilizers include:\\n\\n* Diversification into related products: Both companies could consider diversifying into related products, such as seeds, pesticides, and farm equipment, to increase their revenue streams and competitiveness.\\n* Expansion into new markets: Both companies could explore opportunities to expand into new markets, such as Africa and the Middle East, to increase their export sales and revenue.\\n* Investment in sustainability and environmental initiatives: Engro Fertilizers and Fauji Fertilizers could invest in sustainability and environmental initiatives, such as renewable energy and waste reduction, to improve their brand reputation and reduce their environmental footprint.\\n* Development of digital platforms: Both companies could develop digital platforms to provide farmers with access to information, services, and products, improving their customer engagement and loyalty.\\n\\n### 5. Strategic Recommendations\\nBased on the analysis, the following strategic recommendations are made:\\n\\n* Engro Fertilizers: Focus on expanding its product portfolio to include more specialized fertilizers, and invest in digital platforms to improve customer engagement.\\n* Fauji Fertilizers: Focus on expanding its presence in the southern region, and invest in sustainability initiatives to improve its brand reputation.\\n* Both Companies: Invest in technological advancements, such as precision agriculture and digital farming, to improve their operational efficiency and competitiveness.\\n* Diversify into related products and services to reduce dependence on a single product and increase revenue streams.\\n* Expand into new markets to increase export sales and revenue.\\n* Invest in sustainability and environmental initiatives to improve brand reputation and reduce environmental footprint.\\n* Develop digital platforms to improve customer engagement and loyalty.\\n\\nBy following these recommendations, Engro Fertilizers and Fauji Fertilizers can maintain their market leadership and achieve long-term success in the Pakistani fertilizer industry.',\n",
              " 'content': ['Engro Fertilizers has a market cap or net worth of 252.05 billion as of April 15, 2025. Its market cap has increased by 31.67% in one year. Market Cap 252.05B. Enterprise Value 278.04B. Revenue 256.68B. Ranking n/a. PE Ratio 8.92. Stock Price 188.76. Market Cap Chart.',\n",
              "  'EFERT | Complete Engro Fertilizers Ltd. stock news by MarketWatch. View real-time stock prices and stock quotes for a full financial overview. ... Market Cap; Fatima Fertilizer Co. Ltd. 0.24%',\n",
              "  \"Fauji Fertilizer Company Stock Performance As of 27-Mar-2025, Fauji Fertilizer Company's stock price is $1.31. Its current market cap is $1.87B with 1.42B shares.\",\n",
              "  'Detailed statistics for Fauji Fertilizer Company Limited (PSX:FFC) stock, including valuation metrics, financial numbers, share information and more.',\n",
              "  \"Efert vs Ffc - Free download as Word Doc (.doc / .docx), PDF File (.pdf), Text File (.txt) or read online for free. This report provides a comparative analysis of the financial performance and position of Engro Fertilizers Limited and Fauji Fertilizers Company Limited. It includes profiles of each company's background, vision, mission, values and product portfolio.\",\n",
              "  \"Company Analysis: Engro Fertilizers vs Fauji Fertilizers Graphical Analysis of Annual Portfolios Comparative Net Profit After Tax Engro's net profit after tax for 2021 was noteworthy at 8,977 million. This figure illustrates the company's overall performance, reflecting a solid. Get started for FREE Continue.\",\n",
              "  \"Pakistan's fertilizer industry is navigating turbulent waters, with January 2025 data revealing deepening divergences between urea and diammonium phosphate (DAP) consumption trends. Provisional figures from Arif Habib Ltd (AHL) and Topline Securities highlight a 27% year-over-year collapse in urea offtake to 446,000 metric tons and a 6% year-on-year decline in DAP sales to 63,000 metric tons\",\n",
              "  'Pakistan Fertilizer Market was US$ XX Billion in 2024. Industry Trends, Growth, Impact of Inflation, Company Analysis, Forecast 2025-2035',\n",
              "  'This report provides a comprehensive overview of Engro Fertilizers Ltd and FFC, including financial information, SWOT analysis, industry analysis, and forecasts. It enables comparison of the companies to competitors. The report contains detailed internal and external analyses of the companies. It also performs a SWOT analysis to understand strengths, weaknesses, opportunities, and threats',\n",
              "  \"This report provides a comparative analysis of the financial performance and position of Engro Fertilizers Limited and Fauji Fertilizers Company Limited. It includes profiles of each company's background, vision, mission, values and product portfolio. It also analyzes the macroeconomic impact of Pakistan's fertilizer industry. The report conducts SWOT and PEST analyses for both companies\",\n",
              "  'Understanding Market Trends. Market trends are pivotal in Business Intelligence (BI) as they help in identifying BI opportunities that drive strategic planning and data-driven decision-making. Key concepts of market trends include analyzing patterns in consumer behavior, economic shifts, and industry movements.',\n",
              "  'Business Intelligence reports are meant to illuminate insights, not overwhelm users. However, report complexity and information overload are common pitfalls that hinder effective decision-making. When reports are cluttered with unnecessary data, users struggle to identify key trends and insights. This challenge arises from various factors',\n",
              "  \"A competitive intelligence report serves as a comprehensive document that outlines a competitor's activities, market behavior, and business strategies. Unlike standard business reports that may focus solely on internal metrics, these reports provide a holistic view of the competitive environment.\",\n",
              "  \"The strategic depth of your competitive intelligence report is further fortified by a comprehensive competitive intelligence strategy. This isn't a static strategy but a living, breathing entity that adapts to the dynamic market dynamics, navigates through diverse business segments, and remains vigilant to the emergence of new competitors on\",\n",
              "  'How to Present Recommendations in a Report Effectively What are the most effective ways to present recommendations in a report? Here are some tips to help you craft effective recommendations in a report. A logical structure is paramount in effectively presenting recommendations within a report. When reporting recommendations, it is crucial to be both specific and realistic in the proposed actions. Your audience may not have time or interest to read your entire report, so you need to highlight the key points and the main message of your recommendations. By following these tips, you can present your recommendations in a report in a way that is clear, concise, and compelling.',\n",
              "  'Business intelligence (BI) reporting transforms raw data into actionable insights, driving strategic decision-making. Business Intelligence (BI) reporting is a crucial component of informed decision-making, providing organizations with valuable insights from their data. Effective Business Intelligence reporting is more than just key performance indicators; it must equip decision-makers with actionable insights from historical data and meaningful metrics on business performance. Effective Business Intelligence reporting plays a vital role in this process, transforming raw data into actionable insights that inform strategic choices. By looking at past data and current market trends, BI reporting helps businesses. December 12, 2024 | Article Self-Service BI Tools for Informed Decision Making Self-service Business Intelligence tools allow users to analyze data, generate insights, and make informed decisions without relying on IT.',\n",
              "  'Business intelligence reporting is a BI tool that helps users create reports and dashboards to identify trends, find hidden insights, and track performance for data-driven decision-making. BI reporting also includes capabilities like interactive data visualizations, advanced analytics, and real-time KPI monitoring, giving leaders and business users access to relevant, real-time insights. BI reporting pulls data from various sources, such as customer databases, financial information systems, and customer relationship management software, to generate insights that can help shape a business’s strategies and operations. Modern BI reporting can help you visualize trends in data so you can discover the underlying factors driving your business performance. With BI reporting, business users can convert raw data into interactive visualizations and share those insights organization-wide, enabling cross-functional teams to collaborate faster.',\n",
              "  'The data you collect may come from different data sources such as CRMs, marketing automation systems, HRMS, finance platforms and more.Centralizing these sources into a data warehouse makes it possible to query and manipulate the data to generate metrics and share it in reports.. The two main categories of BI reporting are: managed and ad hoc reporting.'],\n",
              " 'revision_number': 3,\n",
              " 'max_revisions': 2}"
            ]
          },
          "metadata": {},
          "execution_count": 105
        }
      ]
    },
    {
      "cell_type": "code",
      "source": [],
      "metadata": {
        "id": "CkW40nChj2PX"
      },
      "execution_count": null,
      "outputs": []
    }
  ]
}